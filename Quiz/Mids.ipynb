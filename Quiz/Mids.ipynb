{
 "cells": [
  {
   "cell_type": "code",
   "execution_count": 37,
   "id": "ab1aff76",
   "metadata": {},
   "outputs": [
    {
     "name": "stdout",
     "output_type": "stream",
     "text": [
      "Enter a number: 21\n",
      "Enter a number: 30\n",
      "23\n",
      "27\n",
      "30\n"
     ]
    }
   ],
   "source": [
    "num1=int(input('Enter a number: '))\n",
    "num2=int(input('Enter a number: '))\n",
    "if num2-num1<5:\n",
    "    print('Invalid Input!')\n",
    "else:\n",
    "    for i in range(num1,num2+1):\n",
    "        S=(i**3)-3*i-2\n",
    "        if S%7==0:\n",
    "            num3=i\n",
    "            print(i)"
   ]
  },
  {
   "cell_type": "code",
   "execution_count": 5,
   "id": "f3f3ce6c",
   "metadata": {},
   "outputs": [
    {
     "name": "stdout",
     "output_type": "stream",
     "text": [
      "Enter 5 numbers seperated by spaces: 2 10 200 6 100000000000000\n",
      "Together We Fall\n"
     ]
    }
   ],
   "source": [
    "string=input('Enter 5 numbers seperated by spaces: ').split(' ')\n",
    "num=[int(j) for j in string]\n",
    "ratio1=num[1]/num[0]\n",
    "if len(num)==5:\n",
    "    for i in range(len(num)-1):\n",
    "        if num[i+1]/num[i]==ratio1:\n",
    "            same_ratio=True\n",
    "        else:\n",
    "            same_ratio=False\n",
    "            break\n",
    "    if same_ratio==True:\n",
    "        print('Together We Stand')\n",
    "    else:\n",
    "        print('Together We Fall')\n",
    "else:\n",
    "    print('Enter 5 numbers exactly!')"
   ]
  },
  {
   "cell_type": "code",
   "execution_count": null,
   "id": "9b819e96",
   "metadata": {},
   "outputs": [],
   "source": []
  },
  {
   "cell_type": "markdown",
   "id": "ab4fc076",
   "metadata": {},
   "source": []
  }
 ],
 "metadata": {
  "kernelspec": {
   "display_name": "Python 3",
   "language": "python",
   "name": "python3"
  },
  "language_info": {
   "codemirror_mode": {
    "name": "ipython",
    "version": 3
   },
   "file_extension": ".py",
   "mimetype": "text/x-python",
   "name": "python",
   "nbconvert_exporter": "python",
   "pygments_lexer": "ipython3",
   "version": "3.8.8"
  }
 },
 "nbformat": 4,
 "nbformat_minor": 5
}
