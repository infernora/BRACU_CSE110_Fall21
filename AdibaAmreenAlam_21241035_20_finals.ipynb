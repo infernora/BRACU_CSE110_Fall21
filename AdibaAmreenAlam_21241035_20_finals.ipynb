{
 "cells": [
  {
   "cell_type": "code",
   "execution_count": 5,
   "id": "4ce2f89a",
   "metadata": {},
   "outputs": [
    {
     "name": "stdout",
     "output_type": "stream",
     "text": [
      "Enter names: Leo Tim Kim Brad Joey\n",
      "Enter roll numbers: 55 15 25 19 12\n",
      "Joey's roll number is: 12\n",
      "Brad's roll number is: 15\n",
      "Tim's roll number is: 19\n",
      "Kim's roll number is: 25\n",
      "Leo's roll number is: 55\n"
     ]
    }
   ],
   "source": [
    "#QUESTION 1\n",
    "\n",
    "name_list=input('Enter names: ').split(' ')            #Alan Jack Nancy Jim    10 15 20 50\n",
    "roll_list=input('Enter roll numbers: ').split(' ')     #Leo Tim Kim Brad Joey    55 15 25 19 12\n",
    "roll_list=sorted(roll_list) \n",
    "\n",
    "if len(name_list)!=len(roll_list):\n",
    "    print('Enter lists of same length!')\n",
    "else:\n",
    "    list1=[]\n",
    "    for i in name_list:\n",
    "        sumn=0\n",
    "        for j in i:\n",
    "            sumn=sumn+ord(j)\n",
    "        list1.append(sumn)\n",
    "    \n",
    "    list1=(sorted(list1,reverse=True))\n",
    "\n",
    "    list2=[]\n",
    "    for i in list1:\n",
    "        for j in name_list:\n",
    "            sumn=0\n",
    "            for char in j:\n",
    "                sumn=sumn+ord(char)\n",
    "            if sumn==i:\n",
    "                list2.append(j)\n",
    "\n",
    "    for i in range(len(list2)):\n",
    "        print(list2[i]+\"'s roll number is: \"+roll_list[i])\n",
    "    "
   ]
  },
  {
   "cell_type": "code",
   "execution_count": 14,
   "id": "e9cb4939",
   "metadata": {},
   "outputs": [
    {
     "name": "stdout",
     "output_type": "stream",
     "text": [
      "Enter person X's x coordinate: 3\n",
      "Enter person X's y coordinate: 5\n",
      "A\n"
     ]
    }
   ],
   "source": [
    "#QUESTION 2\n",
    "\n",
    "position = {'A': (2, 5), 'B': (1, 7), 'C': (9, 5), 'D': (2, 6)}\n",
    "import math\n",
    "\n",
    "x=int(input(\"Enter person X's x coordinate: \"))\n",
    "y=int(input(\"Enter person X's y coordinate: \"))\n",
    "\n",
    "for key,value in position.items():\n",
    "    dist=math.sqrt((x-value[0])**2+(y-value[1])**2)\n",
    "    position[key]=dist\n",
    "\n",
    "sorted_values=sorted(position.values()) \n",
    "sorted_dict={}\n",
    "\n",
    "for i in sorted_values:\n",
    "    for j in position.keys():\n",
    "        if position[j]==i:\n",
    "            sorted_dict[j]=position[j]\n",
    "            break\n",
    "\n",
    "for key in sorted_dict.keys():\n",
    "    print(key)\n",
    "    break\n",
    "    "
   ]
  },
  {
   "cell_type": "code",
   "execution_count": 1,
   "id": "41645255",
   "metadata": {},
   "outputs": [
    {
     "name": "stdout",
     "output_type": "stream",
     "text": [
      "Enter a string: Ayeeeeeeeeeeeee lmao\n",
      "Vowels: 16\n",
      "Consonants: 3\n",
      "Seed: 105\n",
      "Random value: 5\n"
     ]
    }
   ],
   "source": [
    "#QUESTION 3\n",
    "\n",
    "def randValues0to9(string):                                    #H@#ello Pe3ter!!   Ayeeeeeeeeeeeee lmao\n",
    "    new_string=string.lower()\n",
    "    vowel_list=['a','e','i','o','u']\n",
    "    vowel=0\n",
    "    consonants=0\n",
    "    for i in new_string:\n",
    "        if ord(i)>96 and ord(i)<123:\n",
    "            if i in vowel_list:\n",
    "                vowel=vowel+1\n",
    "            else:\n",
    "                consonants=consonants+1\n",
    "    print('Vowels:',vowel)\n",
    "    print('Consonants:',consonants)\n",
    "    \n",
    "    if vowel<consonants:\n",
    "        seed=vowel*consonants+21\n",
    "    else:\n",
    "        seed=vowel*consonants+57\n",
    "    print('Seed:',seed)\n",
    "    return (seed%(9+1))\n",
    "    \n",
    "    \n",
    "string=input('Enter a string: ')\n",
    "print('Random value:',randValues0to9(string))"
   ]
  }
 ],
 "metadata": {
  "kernelspec": {
   "display_name": "Python 3",
   "language": "python",
   "name": "python3"
  },
  "language_info": {
   "codemirror_mode": {
    "name": "ipython",
    "version": 3
   },
   "file_extension": ".py",
   "mimetype": "text/x-python",
   "name": "python",
   "nbconvert_exporter": "python",
   "pygments_lexer": "ipython3",
   "version": "3.8.8"
  }
 },
 "nbformat": 4,
 "nbformat_minor": 5
}
