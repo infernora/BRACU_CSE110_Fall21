{
 "cells": [
  {
   "cell_type": "code",
   "execution_count": 15,
   "id": "98ecac7b",
   "metadata": {},
   "outputs": [
    {
     "name": "stdout",
     "output_type": "stream",
     "text": [
      "Enter a number: 14\n",
      "The user entered 14\n",
      "14,23,41,77,"
     ]
    }
   ],
   "source": [
    "Y=int(input('Enter a number: '))\n",
    "if (Y<10 or Y>20):\n",
    "    print('Wrong input')\n",
    "else:\n",
    "    print('The user entered',Y)\n",
    "    while (Y<100):\n",
    "        print(Y,end=',')\n",
    "        Y=(2*Y-5)"
   ]
  },
  {
   "cell_type": "code",
   "execution_count": null,
   "id": "564ff2e5",
   "metadata": {},
   "outputs": [],
   "source": []
  },
  {
   "cell_type": "code",
   "execution_count": null,
   "id": "2b06a525",
   "metadata": {},
   "outputs": [],
   "source": []
  }
 ],
 "metadata": {
  "kernelspec": {
   "display_name": "Python 3",
   "language": "python",
   "name": "python3"
  },
  "language_info": {
   "codemirror_mode": {
    "name": "ipython",
    "version": 3
   },
   "file_extension": ".py",
   "mimetype": "text/x-python",
   "name": "python",
   "nbconvert_exporter": "python",
   "pygments_lexer": "ipython3",
   "version": "3.8.8"
  }
 },
 "nbformat": 4,
 "nbformat_minor": 5
}
