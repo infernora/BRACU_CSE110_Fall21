{
 "cells": [
  {
   "cell_type": "markdown",
   "metadata": {
    "id": "oMYzsTcnHEll"
   },
   "source": [
    "# CSE110 Lab Assignment 7 on Sorting and Searching\n",
    "\n",
    "Write your name, Student ID and CSE110 section below:\n"
   ]
  },
  {
   "cell_type": "code",
   "execution_count": null,
   "metadata": {
    "id": "ljd7OxU2gvWb"
   },
   "outputs": [],
   "source": [
    "#STUDENT NAME: Adiba Amreen Alam\n",
    "#STUDENT ID: 21241035\n",
    "#CSE110 SECTION: 20"
   ]
  },
  {
   "cell_type": "markdown",
   "metadata": {
    "id": "jT-t2zlnHEll"
   },
   "source": [
    "## Write the Python code for the following problems:\n",
    "**<font color='red'>[MUST MAINTAIN VARIABLE NAMING CONVENTIONS FOR ALL THE TASKS]</font>**\n",
    "\n",
    "### Task 1\n",
    "\n",
    "Suppose you have a list named my_list as given below. <br/>\n",
    "my_list = [10,1,20,3,6,2,5,11,15,2,12,14,17,18,29] <br/>\n",
    "Now use bubble sort to sort my_list into ascending order.\n",
    "\n",
    "**Output**<br/>\n",
    "[1, 2, 2, 3, 5, 6, 10, 11, 12, 14, 15, 17, 18, 20, 29]"
   ]
  },
  {
   "cell_type": "code",
   "execution_count": 1,
   "metadata": {
    "id": "7qXVakLgHElm"
   },
   "outputs": [
    {
     "name": "stdout",
     "output_type": "stream",
     "text": [
      "[1, 2, 2, 3, 5, 6, 10, 11, 12, 14, 15, 17, 18, 20, 29]\n"
     ]
    }
   ],
   "source": [
    "#todo - Bubble sort starts arranging the elements from the top\n",
    "\n",
    "my_list = [10,1,20,3,6,2,5,11,15,2,12,14,17,18,29]\n",
    "\n",
    "for i in range(len(my_list)-1):\n",
    "    for j in range(len(my_list)-i-1):\n",
    "        if my_list[j]>my_list[j+1]:\n",
    "            temp=my_list[j]\n",
    "            my_list[j]=my_list[j+1]\n",
    "            my_list[j+1]=temp\n",
    "print(my_list)"
   ]
  },
  {
   "cell_type": "markdown",
   "metadata": {
    "id": "w1QgeWd2HElp"
   },
   "source": [
    "### Task 2\n",
    "\n",
    "Suppose you have a list named my_list as given below. <br/>\n",
    "my_list = [10,1,20,3,6,2,5,11,15,2,12,14,17,18,29] <br/>\n",
    "Now use selection sort to sort my_list into ascending order.\n",
    "\n",
    "**Output**<br/>\n",
    "[1, 2, 2, 3, 5, 6, 10, 11, 12, 14, 15, 17, 18, 20, 29]\n",
    "\n"
   ]
  },
  {
   "cell_type": "code",
   "execution_count": 2,
   "metadata": {
    "id": "am0B_8ICHElq"
   },
   "outputs": [
    {
     "name": "stdout",
     "output_type": "stream",
     "text": [
      "[1, 2, 2, 3, 5, 6, 10, 11, 12, 14, 15, 17, 18, 20, 29]\n"
     ]
    }
   ],
   "source": [
    "#todo Selection sort starts arranging the elements from the bottom\n",
    "\n",
    "my_list = [10,1,20,3,6,2,5,11,15,2,12,14,17,18,29]\n",
    "\n",
    "def ascending_sort(my_list):\n",
    "    for i in range(len(my_list)):\n",
    "        min_index=i\n",
    "        for j in range(i+1,len(my_list)):\n",
    "            #finding minimum\n",
    "            if my_list[j]<my_list[min_index]:\n",
    "                min_index=j\n",
    "            #swapping\n",
    "        temp=my_list[min_index]\n",
    "        my_list[min_index]=my_list[i]\n",
    "        my_list[i]=temp\n",
    "    return(my_list)\n",
    "        \n",
    "print(ascending_sort(my_list))      \n",
    "        "
   ]
  },
  {
   "cell_type": "markdown",
   "metadata": {
    "id": "j4ffr2CAHElt"
   },
   "source": [
    "### Task  3\n",
    "\n",
    "Suppose you have a list named my_list as given below <br/>\n",
    "my_list=[10,1,20,3,6,2,5,11,15,2,12,14,17,18,29] <br/>\n",
    "Now use any of the two sorting techniques you have used above to sort the list in descending order.\n",
    "\n",
    "**Output**<br/>\n",
    "[29, 20, 18, 17, 15, 14, 12, 11, 10, 6, 5, 3, 2, 2, 1]\n"
   ]
  },
  {
   "cell_type": "code",
   "execution_count": 3,
   "metadata": {
    "id": "n2X3YR-_HElt"
   },
   "outputs": [
    {
     "name": "stdout",
     "output_type": "stream",
     "text": [
      "[29, 20, 18, 17, 15, 14, 12, 11, 10, 6, 5, 3, 2, 2, 1]\n"
     ]
    }
   ],
   "source": [
    "my_list=[10,1,20,3,6,2,5,11,15,2,12,14,17,18,29]\n",
    "\n",
    "def descending_sort(my_list):\n",
    "    for i in range(len(my_list)):\n",
    "        max_index=i\n",
    "        for j in range(i+1,len(my_list)):\n",
    "            #finding maximum\n",
    "            if my_list[j]>my_list[max_index]:\n",
    "                max_index=j\n",
    "        #swapping\n",
    "        temp=my_list[max_index]\n",
    "        my_list[max_index]=my_list[i]\n",
    "        my_list[i]=temp\n",
    "    return my_list\n",
    "        \n",
    "print(descending_sort(my_list))\n"
   ]
  },
  {
   "cell_type": "markdown",
   "metadata": {
    "id": "9iYiiTWWHElw"
   },
   "source": [
    "### Task 4\n",
    "\n",
    "Suppose you have a sitting arrangement of the students who will give the final exam in a list. The list contains the last two digits of their student ID as given below.<br/>\n",
    "\n",
    "sitting_list = [10,30,20,70,11,15,22,16,58,100,12,56,70,80] <br/>\n",
    "\n",
    "Now you want to organize the sitting arrangement of the students in your own way. You decide to sort all the students in the even indices of the list in ascending order and all the students in the odd indices of the list in descending order.  <br/>\n",
    "\n",
    "So, write a python program that organizes the list for you in this way.<br/>\n",
    "\n",
    "\n",
    "**Sample Output**<br/>\n",
    "[10, 100, 11, 80, 12, 70, 20, 56, 22, 30, 58, 16, 70, 15]"
   ]
  },
  {
   "cell_type": "code",
   "execution_count": 4,
   "metadata": {
    "id": "nPdUAKDJHElw"
   },
   "outputs": [
    {
     "name": "stdout",
     "output_type": "stream",
     "text": [
      "[10, 100, 11, 80, 12, 70, 20, 56, 22, 30, 58, 16, 70, 15]\n"
     ]
    }
   ],
   "source": [
    "sitting_list = [10,30,20,70,11,15,22,16,58,100,12,56,70,80]\n",
    "odd_list=[]\n",
    "even_list=[]\n",
    "new_list=[]\n",
    "\n",
    "for i in range(len(sitting_list)):\n",
    "    if i%2==0:\n",
    "        even_list.append(sitting_list[i])\n",
    "    else:\n",
    "        odd_list.append(sitting_list[i])\n",
    "\n",
    "ascending_sort(even_list)\n",
    "descending_sort(odd_list)\n",
    "#print(even_list,odd_list)\n",
    "\n",
    "for j in range(len(odd_list)):\n",
    "    new_list.append(even_list[j])\n",
    "    new_list.append(odd_list[j])\n",
    "    \n",
    "print(new_list)"
   ]
  },
  {
   "cell_type": "markdown",
   "metadata": {
    "id": "oVR1Tsa0HElz"
   },
   "source": [
    "### Task 5\n",
    "\n",
    "Suppose a list contains marks earned in the courses CSE110, PHY111, and MAT110 of each student consecutively in a nested list form. Your task is to take a course name as input from the user and sort the list based on the marks obtained in that course in order to finally print the names of the students in descending order of marks obtained i.e. from the student who earned the highest marks to the student who earned the lowest. <br/>\n",
    "\n",
    "For example, the list may look like <br/>\n",
    "lst = [ [\"Alan\", 95, 87, 91], [\"Turing\", 92, 90, 83], [\"Elon\", 87, 92, 80], [\"Musk\", 85, 94, 90] ] <br/>\n",
    "where for each nested list, 1st index holds the name of the student, 2nd index is total marks earned in the CSE110 course, 3rd index is PHY111 marks and 4th index is MAT110 marks. \n",
    "\n",
    "=====================================================\n",
    "\n",
    "**Hint:**<br/>\n",
    "You may create a function for sorting, then call it every time when needed instead of rewriting the code.\n",
    "\n",
    "You may get the data in the individual lists from the given nested list.\n",
    "\n",
    "=====================================================\n",
    "\n",
    "**Sample Input 1**<br/>\n",
    "MAT110\n",
    "\n",
    "**Sample Output 1**<br/>\n",
    "Alan <br/>\n",
    "Musk <br/>\n",
    "Turing <br/>\n",
    "Elon\n",
    "\n",
    "**Explanation:**<br/>\n",
    "Here the user gives us \"MAT110\" as the course name. Now, the students Alan, Turing, Elon and Musk earned 91, 83, 80 and 90 marks respectively in this course. If we sort it, Alan got the highest marks of 91 followed by Musk with 90 marks and Turing with 83 marks. Among these 4 students, Elon obtained the lowest marks in the MAT110 course with 80 marks. All of these has been illustrated in our sample output.\n",
    "\n",
    "=====================================================\n",
    "\n",
    "**Sample Input 2**<br/>\n",
    "PHY111\n",
    "\n",
    "**Sample Output 2**<br/>\n",
    "Musk <br/>\n",
    "Elon <br/>\n",
    "Turing <br/>\n",
    "Alan"
   ]
  },
  {
   "cell_type": "code",
   "execution_count": 5,
   "metadata": {
    "id": "539b2P1NHElz"
   },
   "outputs": [
    {
     "name": "stdout",
     "output_type": "stream",
     "text": [
      "Enter course name: PHY111\n",
      "Musk\n",
      "Elon\n",
      "Turing\n",
      "Alan\n"
     ]
    }
   ],
   "source": [
    "lst = [ [\"Alan\", 95, 87, 91], [\"Turing\", 92, 90, 83], [\"Elon\", 87, 92, 80], [\"Musk\", 85, 94, 90] ]\n",
    "subj=input('Enter course name: ')\n",
    "\n",
    "names=[]\n",
    "CSE110=[]\n",
    "MAT110=[]\n",
    "PHY111=[]\n",
    "\n",
    "for elem in lst:\n",
    "    names.append(elem[0])\n",
    "    CSE110.append(elem[1])\n",
    "    MAT110.append(elem[3])\n",
    "    PHY111.append(elem[2])\n",
    "    \n",
    "def bubble_sort(names, num):\n",
    "    for i in range(len(num)-1):\n",
    "        for j in range(len(num)-i-1):\n",
    "            if num[j]<num[j+1]:\n",
    "                temp=num[j+1]\n",
    "                temp_name=names[j+1]\n",
    "                \n",
    "                num[j+1]=num[j]\n",
    "                names[j+1]=names[j]\n",
    "                \n",
    "                num[j]=temp\n",
    "                names[j]=temp_name\n",
    "    #print(names, num)\n",
    "    for k in names:\n",
    "        print(k)\n",
    "\n",
    "if subj=='CSE110':\n",
    "    bubble_sort(names, CSE110)\n",
    "elif subj=='MAT110':\n",
    "    bubble_sort(names, MAT110)\n",
    "elif subj=='PHY111':\n",
    "    bubble_sort(names, PHY111)\n",
    "else:\n",
    "    print('wrong input')\n",
    "       \n"
   ]
  },
  {
   "cell_type": "markdown",
   "metadata": {
    "id": "B0Rqbyi4HEl2"
   },
   "source": [
    "### Task 6\n",
    "\n",
    "Suppose you have a list named my_list as given below. Your task is to sort the list in ascending order and print the count of numbers that have changed their positions in the process of sorting. <br/>\n",
    "\n",
    "my_list = [4, 2, 3, 1, 6, 5] <br/>\n",
    "\n",
    "Sorted list would be [1, 2, 3, 4, 5, 6] where 4 numbers (4, 1, 6 and 5) have changed their positions. Therefore our sample output here would be 4. Please check if your code is working correctly by changing the above list and using the knowledge given here to verify whether your code gives correct output for all different lists.\n",
    "\n",
    "\n",
    "**Sample Output for the above list**<br/>\n",
    "4"
   ]
  },
  {
   "cell_type": "code",
   "execution_count": 6,
   "metadata": {
    "id": "AMc8jAa7HEl2"
   },
   "outputs": [
    {
     "name": "stdout",
     "output_type": "stream",
     "text": [
      "[1, 2, 3, 4, 5, 6]\n",
      "4\n"
     ]
    }
   ],
   "source": [
    "my_list = [4, 2, 3, 1, 6, 5]             \n",
    "temp_list = [4, 2, 3, 1, 6, 5]       #sort is changing the original list so a temporary list is created\n",
    "new_list=ascending_sort(my_list)   \n",
    "print(new_list) \n",
    "\n",
    "count=0\n",
    "for k in range(len(new_list)):\n",
    "    if temp_list[k]!= new_list[k]:\n",
    "        count+=1\n",
    "print(count)      "
   ]
  },
  {
   "cell_type": "markdown",
   "metadata": {
    "id": "iIH5n0sJHEl5"
   },
   "source": [
    "### Task 7\n",
    "\n",
    "Write a python program that takes two lists from the user, merges the two lists, sorts the resulting list, and then finds the median of the elements in the two lists.\n",
    "\n",
    "=====================================================\n",
    "\n",
    "\n",
    "**Sample Input 1**<br/>\n",
    "list_one = [1, 2, 1, 4] <br/>\n",
    "list_two = [5, 4, 1]\n",
    "\n",
    "\n",
    "**Sample Output 1**<br/>\n",
    "Sorted list = [1, 1, 1, 2, 4, 4, 5] <br/>\n",
    "Median = 2\n",
    "\n",
    "=====================================================\n",
    "\n",
    "\n",
    "**Sample Input 2**<br/>\n",
    "list_one = [1, 7, 9, 10] <br/>\n",
    "list_two = [2, 7, 6, 5]\n",
    "\n",
    "\n",
    "**Sample Output 2**<br/>\n",
    "Sorted list = [1, 2, 5, 6, 7, 7, 9, 10] <br/>\n",
    "Median = 6.5\n",
    "\n"
   ]
  },
  {
   "cell_type": "code",
   "execution_count": 7,
   "metadata": {
    "id": "KsFxC7XbHEl6"
   },
   "outputs": [
    {
     "name": "stdout",
     "output_type": "stream",
     "text": [
      "Sorted list [1, 2, 5, 6, 7, 7, 9, 10]\n",
      "Median 6.5\n"
     ]
    }
   ],
   "source": [
    "list_one = [1, 7, 9, 10]\n",
    "list_two = [2, 7, 6, 5]\n",
    "\n",
    "my_list=list_one+list_two\n",
    "new_list=ascending_sort(my_list)\n",
    "print('Sorted list', new_list)\n",
    "\n",
    "if len(new_list)%2==0:\n",
    "    mid_1=(len(new_list)//2)-1\n",
    "    mid_2=mid_1+1\n",
    "    median=(new_list[mid_1]+new_list[mid_2])/2\n",
    "    \n",
    "else:\n",
    "    mid_index=int(len(new_list)/2)\n",
    "    median=new_list[mid_index]\n",
    "    \n",
    "print('Median', median)\n",
    "    "
   ]
  },
  {
   "cell_type": "markdown",
   "metadata": {
    "id": "-XKiwBR1HEl8"
   },
   "source": [
    "### Task 8\n",
    "\n",
    "\n",
    "Write a python program that takes a list from user containing both positive and negative numbers. The program then finds two pairs of values whose summation is closest to zero.\n",
    "\n",
    "=====================================================\n",
    "\n",
    "**Sample Input 1**<br/>\n",
    "list_one = [-10, 15, 2, 4, -4, 7, -8] \n",
    "\n",
    "\n",
    "**Sample Output 1**<br/>\n",
    "Two pairs which have the smallest sum = 4 and -4\n",
    "\n",
    "=====================================================\n",
    "\n",
    "\n",
    "**Sample Input 2**<br/>\n",
    "list_one = [1, -8, 4, -7, -20, 26, 70, -85]\n",
    "\n",
    "\n",
    "**Sample Output 2**<br/>\n",
    "Two pairs which have the smallest sum = 4 and -7"
   ]
  },
  {
   "cell_type": "code",
   "execution_count": 1,
   "metadata": {
    "id": "5ORSGa5GHEl9"
   },
   "outputs": [
    {
     "name": "stdout",
     "output_type": "stream",
     "text": [
      "Two pairs which have the smallest sum= -20 and 20\n"
     ]
    }
   ],
   "source": [
    "list_one = [1, -8, 4, -7, -20, 20, 70, -85]\n",
    "\n",
    "total_min=None\n",
    "min_num1=None\n",
    "min_num2=None\n",
    "\n",
    "for i in range(len(list_one)-1):       #i=0,1,2,3,4,5,6\n",
    "    num1=list_one[i]                   #1\n",
    "    for j in range(i+1, len(list_one)):  #j=1,2,3,4,5,7 \n",
    "        num2=list_one[j]                #-8\n",
    "        temp_total=abs(num1+num2)  #absolute value\n",
    "        if total_min==None:\n",
    "            total_min=temp_total\n",
    "            min_num1=num1\n",
    "            min_num2=num2\n",
    "        else:\n",
    "            if temp_total<total_min:\n",
    "                total_min=temp_total\n",
    "                min_num1=num1\n",
    "                min_num2=num2\n",
    "            if temp_total==0:\n",
    "                break\n",
    "\n",
    "print('Two pairs which have the smallest sum=', min_num1,'and',min_num2)     "
   ]
  },
  {
   "cell_type": "code",
   "execution_count": null,
   "metadata": {},
   "outputs": [],
   "source": []
  }
 ],
 "metadata": {
  "colab": {
   "collapsed_sections": [],
   "name": "CSE110 Lab Assignment 7 (Sorting and Searching).ipynb",
   "provenance": []
  },
  "kernelspec": {
   "display_name": "Python 3",
   "language": "python",
   "name": "python3"
  },
  "language_info": {
   "codemirror_mode": {
    "name": "ipython",
    "version": 3
   },
   "file_extension": ".py",
   "mimetype": "text/x-python",
   "name": "python",
   "nbconvert_exporter": "python",
   "pygments_lexer": "ipython3",
   "version": "3.8.8"
  }
 },
 "nbformat": 4,
 "nbformat_minor": 1
}
