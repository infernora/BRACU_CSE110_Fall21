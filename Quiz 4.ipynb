{
 "cells": [
  {
   "cell_type": "code",
   "execution_count": 1,
   "id": "bbbfd356",
   "metadata": {},
   "outputs": [
    {
     "name": "stdout",
     "output_type": "stream",
     "text": [
      "Enter string of IDs: 10101202 12104354 13101457 13103372 20301021 10101457\n",
      "{'10th': ['10101202', '10101457'], '12th': ['12104354'], '13th': ['13101457', '13103372'], '20th': ['20301021']}\n"
     ]
    }
   ],
   "source": [
    "def id_checker(string):\n",
    "    my_list=string.split(' ')\n",
    "    my_dict={}\n",
    "    for elem in my_list:\n",
    "        my_dict[elem[0:2]+'th']=[]\n",
    "    for keys in my_dict.keys():\n",
    "        for elem in my_list:\n",
    "            if keys[0:2]==elem[0:2]:\n",
    "                my_dict[keys].append(elem)\n",
    "    return my_dict\n",
    "        \n",
    "\n",
    "\n",
    "#18101202 18104354 20101457 19103372 20301021\n",
    "#10101202 12104354 13101457 13103372 20301021 10101457\n",
    "print(id_checker(input('Enter string of IDs: ')))"
   ]
  },
  {
   "cell_type": "code",
   "execution_count": null,
   "id": "75a3b9ce",
   "metadata": {},
   "outputs": [],
   "source": []
  },
  {
   "cell_type": "code",
   "execution_count": null,
   "id": "b1637182",
   "metadata": {},
   "outputs": [],
   "source": []
  },
  {
   "cell_type": "code",
   "execution_count": null,
   "id": "f9c0eae1",
   "metadata": {},
   "outputs": [],
   "source": []
  }
 ],
 "metadata": {
  "kernelspec": {
   "display_name": "Python 3",
   "language": "python",
   "name": "python3"
  },
  "language_info": {
   "codemirror_mode": {
    "name": "ipython",
    "version": 3
   },
   "file_extension": ".py",
   "mimetype": "text/x-python",
   "name": "python",
   "nbconvert_exporter": "python",
   "pygments_lexer": "ipython3",
   "version": "3.8.8"
  }
 },
 "nbformat": 4,
 "nbformat_minor": 5
}
