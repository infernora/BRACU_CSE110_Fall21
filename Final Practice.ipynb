{
 "cells": [
  {
   "cell_type": "code",
   "execution_count": 6,
   "id": "d10f5f86",
   "metadata": {},
   "outputs": [
    {
     "name": "stdout",
     "output_type": "stream",
     "text": [
      "seconds: 10000\n",
      "hour: 2 minute: 46 seconds: 40\n"
     ]
    }
   ],
   "source": [
    "#finds the number of hours, minutes, and seconds in a given number of seconds\n",
    "\n",
    "def time_count(sec):\n",
    "    hour=sec//3600\n",
    "    remaining_sec=sec%3600\n",
    "    mint=remaining_sec//60\n",
    "    seconds=remaining_sec%60\n",
    "    print('hour:',hour, 'minute:',mint, 'seconds:',seconds)\n",
    "    \n",
    "    \n",
    "time_count(int(input('seconds: ')))"
   ]
  },
  {
   "cell_type": "code",
   "execution_count": 12,
   "id": "abbc0286",
   "metadata": {},
   "outputs": [
    {
     "name": "stdout",
     "output_type": "stream",
     "text": [
      "18,-27,36,-45,54,-63\n"
     ]
    }
   ],
   "source": [
    "#write this loop 18,-27, 36,-45,54,-63\n",
    "\n",
    "count=18\n",
    "while count<=63:\n",
    "    if count%2!=0:\n",
    "        if count==63:\n",
    "            print(-1*count)\n",
    "        else:\n",
    "            print(-1*count, end=',')\n",
    "    else:\n",
    "        print(count,end=',')\n",
    "    count=count+9"
   ]
  },
  {
   "cell_type": "code",
   "execution_count": 19,
   "id": "506b59c6",
   "metadata": {},
   "outputs": [
    {
     "name": "stdout",
     "output_type": "stream",
     "text": [
      "Enter a number: 10\n",
      "-55\n"
     ]
    }
   ],
   "source": [
    "#Write a Python code that will calculate the value of y if the expression of y is as follows (n is the input)\n",
    "#𝑦=1**2−2**2+3**2−4**2+5**2.........+𝑛**2\n",
    "\n",
    "num=int(input('Enter a number: '))\n",
    "\n",
    "sum=0\n",
    "for i in range(num+1):\n",
    "    if i%2!=0:\n",
    "        sum=sum+i**2\n",
    "    else:\n",
    "        sum=sum+(-1)*i**2\n",
    "print(sum)"
   ]
  },
  {
   "cell_type": "code",
   "execution_count": 20,
   "id": "073a06a9",
   "metadata": {},
   "outputs": [
    {
     "name": "stdout",
     "output_type": "stream",
     "text": [
      "Enter a number: 789\n",
      "9, 8, 7"
     ]
    }
   ],
   "source": [
    "#Write a Python program which takes a number and prints the digits from the unit place, then the tenth, then hundredth, etc.\n",
    "#32768=8,6,7,2,3\n",
    "\n",
    "num=int(input('Enter a number: '))\n",
    "while num!=0:\n",
    "    place=num%10   \n",
    "    num=num//10\n",
    "    if (num==0):\n",
    "        print(place,end='')\n",
    "    else:\n",
    "        print(place,end=', ')\n"
   ]
  },
  {
   "cell_type": "code",
   "execution_count": 21,
   "id": "20991c4d",
   "metadata": {},
   "outputs": [
    {
     "name": "stdout",
     "output_type": "stream",
     "text": [
      "Enter a number: 7890\n",
      "4 digits\n"
     ]
    }
   ],
   "source": [
    "#Write a Python program that takes a number and prints how many digits are in that number.\n",
    "#32768=8,6,7,2,3=5\n",
    "\n",
    "count=0\n",
    "num=int(input('Enter a number: '))\n",
    "while num>0:\n",
    "    num=num//10\n",
    "    count=count+1\n",
    "print(count,'digits')\n"
   ]
  },
  {
   "cell_type": "code",
   "execution_count": 13,
   "id": "d55d5b0f",
   "metadata": {},
   "outputs": [
    {
     "name": "stdout",
     "output_type": "stream",
     "text": [
      "Enter a number: 2\n",
      "not prime\n",
      "2\n",
      "2 is a prime\n"
     ]
    }
   ],
   "source": [
    "#to find if a number is prime\n",
    "\n",
    "num=int(input('Enter a number: '))\n",
    "\n",
    "for i in range(2,num):\n",
    "    if num<=1:\n",
    "        prime=False\n",
    "    elif num==2:\n",
    "        prime=True\n",
    "        break\n",
    "    elif num%i==0:\n",
    "        prime=False\n",
    "        break\n",
    "    else:                              #is not working for 2\n",
    "        prime=True\n",
    "        \n",
    "if prime==True:\n",
    "    print('prime')\n",
    "else:\n",
    "    print('not prime')\n",
    "    \n",
    "#======================================================\n",
    "\n",
    "num=int(input()) \n",
    "\n",
    "count=0\n",
    "for i in range(1,num+1):\n",
    "    if num%i==0:\n",
    "        count=count+1\n",
    "\n",
    "if count<=2:\n",
    "    print(num,'is a prime')\n",
    "else:\n",
    "    print(num,'is not a prime')"
   ]
  },
  {
   "cell_type": "markdown",
   "id": "73bade69",
   "metadata": {},
   "source": [
    "## number of divisors\n",
    "\n",
    "count=0\n",
    "num=int(input('Enter a number: '))\n",
    "for i in range(1,num+1):\n",
    "    if(num%i==0):\n",
    "        if (i==num):\n",
    "            print(i, end='\\n')\n",
    "        else:\n",
    "            print(i, end=', ')\n",
    "        count=count+1\n",
    "print('Total',count,'divisors.')"
   ]
  },
  {
   "cell_type": "code",
   "execution_count": 23,
   "id": "6eaf632e",
   "metadata": {},
   "outputs": [
    {
     "name": "stdout",
     "output_type": "stream",
     "text": [
      "7\n",
      "0 1 1 2 3 5 8 "
     ]
    }
   ],
   "source": [
    "#fibonacci number\n",
    "\n",
    "N=int(input())\n",
    "\n",
    "num=0\n",
    "count=1\n",
    "\n",
    "for i in range(N):\n",
    "    if i==0:\n",
    "        print(0, end=' ')\n",
    "    elif i==1:\n",
    "        print(1, end=' ')\n",
    "    else:\n",
    "        sum=count+num\n",
    "        num=count\n",
    "        count=sum\n",
    "        print(sum, end=' ')"
   ]
  },
  {
   "cell_type": "code",
   "execution_count": 24,
   "id": "9cc94d53",
   "metadata": {},
   "outputs": [
    {
     "name": "stdout",
     "output_type": "stream",
     "text": [
      "7\n",
      "0 1 1 2 3 5 "
     ]
    }
   ],
   "source": [
    "#fibonacci number less than a value\n",
    "\n",
    "N=int(input())\n",
    "\n",
    "num=0\n",
    "count=1\n",
    "sum=0\n",
    "for i in range(N):\n",
    "    if i==0:\n",
    "        print(0, end=' ')\n",
    "    elif i==1:\n",
    "        print(1, end=' ')\n",
    "    else:\n",
    "        sum=count+num\n",
    "        num=count\n",
    "        count=sum\n",
    "        if sum>N:\n",
    "            break\n",
    "        else:\n",
    "            print(sum, end=' ')"
   ]
  },
  {
   "cell_type": "code",
   "execution_count": 25,
   "id": "1af84765",
   "metadata": {},
   "outputs": [
    {
     "name": "stdout",
     "output_type": "stream",
     "text": [
      "5\n",
      "4\n",
      "3\n",
      "2\n",
      "1\n"
     ]
    }
   ],
   "source": [
    "#decimal to binary\n",
    "\n",
    "num=int(input())\n",
    "\n",
    "count=100\n",
    "binary=''\n",
    "\n",
    "while num>0:\n",
    "    binary=str(num%2)+binary\n",
    "    num=num//2\n",
    "\n",
    "print(binary)\n",
    "\n",
    "#======================================================\n",
    "\n",
    "#binary to decimal\n",
    "\n",
    "binary=input()\n",
    "\n",
    "decimal=0\n",
    "count=0\n",
    "for i in range(len(binary)):  #0,1,2,3,4,\n",
    "    count=len(binary)-i         #5,4,3,2,1\n",
    "    decimal=(2**(count-1))*int(binary[i])+decimal\n",
    "print(decimal)"
   ]
  },
  {
   "cell_type": "code",
   "execution_count": 14,
   "id": "c659d14f",
   "metadata": {},
   "outputs": [
    {
     "name": "stdout",
     "output_type": "stream",
     "text": [
      "Enter a string: ijkl\n",
      "Enter another string: bhnmkkl\n",
      "ibjhknlmkkl\n"
     ]
    }
   ],
   "source": [
    "a=input('Enter a string: ')           \n",
    "b=input('Enter another string: ')\n",
    "if len(b)>len(a):\n",
    "    for c in range(len(a)):\n",
    "        print(a[c]+b[c], end='')\n",
    "    f=len(b)-len(a)\n",
    "    print(b[-(f):])    #-f to -1\n",
    "elif len(a)>len(b):     \n",
    "    for d in range(len(b)):\n",
    "        print(a[d]+b[d],end='')\n",
    "    h=len(b)-len(a)\n",
    "    print(a[-h:])\n",
    "else:\n",
    "    for e in range(len(a)):\n",
    "        print(a[e]+b[e], end='') "
   ]
  },
  {
   "cell_type": "code",
   "execution_count": 15,
   "id": "bdd928a2",
   "metadata": {},
   "outputs": [
    {
     "name": "stdout",
     "output_type": "stream",
     "text": [
      "Enter number of days: 7890\n",
      "21 years, 7 months, 15 days\n"
     ]
    }
   ],
   "source": [
    "def days(num):\n",
    "    years=num//365\n",
    "    print(int(years),'years',end=', ')\n",
    "    remaining_days=num%365\n",
    "    months=remaining_days//30\n",
    "    print(int(months),'months',end=', ')\n",
    "    days=remaining_days%30\n",
    "    print(int(days),'days')\n",
    "\n",
    "    \n",
    "days(int(input(\"Enter number of days: \")))"
   ]
  },
  {
   "cell_type": "code",
   "execution_count": 17,
   "id": "89417887",
   "metadata": {},
   "outputs": [
    {
     "name": "stdout",
     "output_type": "stream",
     "text": [
      "Enter number: 6\n",
      "          1 \n",
      "        1 2 1 \n",
      "      1 2 3 2 1 \n",
      "    1 2 3 4 3 2 1 \n",
      "  1 2 3 4 5 4 3 2 1 \n",
      "1 2 3 4 5 6 5 4 3 2 1 \n"
     ]
    }
   ],
   "source": [
    "def show_palindrome(num):                       \n",
    "    palindrome=''\n",
    "    for i in range(1,num):\n",
    "        palindrome+=str(i)\n",
    "    for j in range(num,0,-1):\n",
    "        palindrome+=str(j)\n",
    "    return palindrome\n",
    "\n",
    "\n",
    "def show_palindromic_triangle(num): \n",
    "    for i in range(1,num+1):\n",
    "        for j in range (0,num-i):     \n",
    "            print('  ',end='')\n",
    "        pal=show_palindrome(i)  \n",
    "        for i in pal:\n",
    "            print(i,end=' ')\n",
    "        print()\n",
    "\n",
    "\n",
    "show_palindromic_triangle(int(input('Enter number: ')))\n"
   ]
  },
  {
   "cell_type": "code",
   "execution_count": 4,
   "id": "56b3feda",
   "metadata": {},
   "outputs": [
    {
     "name": "stdout",
     "output_type": "stream",
     "text": [
      "median: 6.5\n"
     ]
    }
   ],
   "source": [
    "#finding median of two lists\n",
    "\n",
    "def ascending_sort(my_list):\n",
    "    for i in range(len(my_list)):\n",
    "        min_index=i\n",
    "        for j in range(i+1,len(my_list)):\n",
    "            #finding minimum\n",
    "            if my_list[j]<my_list[min_index]:\n",
    "                min_index=j\n",
    "            #swapping\n",
    "        temp=my_list[min_index]\n",
    "        my_list[min_index]=my_list[i]\n",
    "        my_list[i]=temp\n",
    "    return(my_list)\n",
    "\n",
    "#check if total length odd or even\n",
    "def find_median(sorted_list):\n",
    "    if len(sorted_list)%2==0:\n",
    "        mid1=(len(sorted_list)//2)-1  #note that mid1=4, means i is a postion further. So, we subtract 1\n",
    "        mid2=mid1+1\n",
    "        median=(sorted_list[mid1]+sorted_list[mid2])/2\n",
    "        return median\n",
    "    else:\n",
    "        mid=int(len(sorted_list)/2) #int because index needs to be integer\n",
    "        median=sorted_list[mid]\n",
    "        return median\n",
    "\n",
    "list1=[1,7,9,10]\n",
    "list2=[2,7,6,5]\n",
    "merge=list1+list2\n",
    "sorted_list=ascending_sort(merge)\n",
    "                #[0,1,2,2,2,3,4,4]\n",
    "\n",
    "mid=find_median(sorted_list)\n",
    "print('median:',mid)\n",
    "\n"
   ]
  },
  {
   "cell_type": "code",
   "execution_count": 17,
   "id": "d397d06a",
   "metadata": {},
   "outputs": [
    {
     "name": "stdout",
     "output_type": "stream",
     "text": [
      "[1929, 2992010, 200293, 102, 2929]\n"
     ]
    }
   ],
   "source": [
    "#cleaning a string\n",
    "string1='\"1929,   2992010, 200293, 102, 2929\"'\n",
    "string2=string.strip('\"')\n",
    "list1=string2.split(',')\n",
    "#print(list1)\n",
    "list2=[]\n",
    "\n",
    "for i in list1:\n",
    "    string3=i.strip()\n",
    "    #print(string3,end=',')\n",
    "    list2.append(string3)\n",
    "list2=[int(i) for i in list2]\n",
    "print(list2)\n"
   ]
  },
  {
   "cell_type": "code",
   "execution_count": 18,
   "id": "2797ddd5",
   "metadata": {},
   "outputs": [
    {
     "name": "stdout",
     "output_type": "stream",
     "text": [
      "my_dict {'go': 3, 'there': 2, 'come': 1, 'and': 2, 'here': 1, 'care': 1}\n",
      "key list ['go', 'there', 'come', 'and', 'here', 'care']\n",
      "new list [1, 1, 1, 2, 2, 3]\n",
      "{'come': 1, 'here': 1, 'care': 1, 'there': 2, 'and': 2, 'go': 3}\n"
     ]
    }
   ],
   "source": [
    "def word_count(string):\n",
    "    my_list=string.split(' ')    \n",
    "    my_dict={}\n",
    "    key_list=[]\n",
    "    value_list=[]                           \n",
    "    for i in my_list:\n",
    "        my_dict[i]=my_list.count(i)\n",
    "    print('my_dict',my_dict)\n",
    "    for i in my_list:\n",
    "        if i not in key_list:\n",
    "            key_list.append(i)\n",
    "    print('key list', key_list)\n",
    "    for j in key_list:\n",
    "        value_list.append(my_list.count(j))        #made an unsorted dictionary+an unsorted key list+a sorted value list\n",
    "    new_list=sorted(value_list)\n",
    "    print('new list',new_list)\n",
    "    new_dict={}\n",
    "    for x in new_list:                            #for x in new sorted list of values, found the first value in dict that matched first value in sorted and ordered list, then updated dic to add that first\n",
    "        for j,k in my_dict.items():\n",
    "            if x==k:\n",
    "                new_dict.update({j:k})\n",
    "    return(new_dict)\n",
    "                \n",
    "    \n",
    "        \n",
    "print(word_count(\"go there come and go here and there go care\"))"
   ]
  },
  {
   "cell_type": "code",
   "execution_count": null,
   "id": "5b2cd3f9",
   "metadata": {},
   "outputs": [],
   "source": []
  }
 ],
 "metadata": {
  "kernelspec": {
   "display_name": "Python 3",
   "language": "python",
   "name": "python3"
  },
  "language_info": {
   "codemirror_mode": {
    "name": "ipython",
    "version": 3
   },
   "file_extension": ".py",
   "mimetype": "text/x-python",
   "name": "python",
   "nbconvert_exporter": "python",
   "pygments_lexer": "ipython3",
   "version": "3.8.8"
  }
 },
 "nbformat": 4,
 "nbformat_minor": 5
}
