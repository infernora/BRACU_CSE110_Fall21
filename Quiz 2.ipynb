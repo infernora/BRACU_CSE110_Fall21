{
 "cells": [
  {
   "cell_type": "code",
   "execution_count": 1,
   "id": "52ee3859",
   "metadata": {},
   "outputs": [
    {
     "name": "stdout",
     "output_type": "stream",
     "text": [
      "Enter a number: 5609\n",
      "2\n"
     ]
    }
   ],
   "source": [
    "num=input('Enter a number: ')\n",
    "before=''\n",
    "after=''\n",
    "count=0\n",
    "summation=0\n",
    "subtraction=0\n",
    "for i in range(len(num)):\n",
    "    if num[i]=='0':\n",
    "        count=count+1\n",
    "        if count>1:\n",
    "            print('Invalid input')\n",
    "        for j in num[:i]:\n",
    "            before=j+before\n",
    "        for k in num[i+1:]:\n",
    "            after=k+after\n",
    "for elem in before:\n",
    "    summation=summation+int(elem)\n",
    "for elem in after:\n",
    "    subtraction=subtraction+int(elem)\n",
    "answer=summation-subtraction\n",
    "print(answer)\n"
   ]
  },
  {
   "cell_type": "markdown",
   "id": "2c7aeafe",
   "metadata": {},
   "source": [
    "#### "
   ]
  },
  {
   "cell_type": "code",
   "execution_count": 4,
   "id": "9ae6a459",
   "metadata": {},
   "outputs": [
    {
     "name": "stdout",
     "output_type": "stream",
     "text": [
      "Enter a number: 54021\n",
      "6\n"
     ]
    }
   ],
   "source": [
    "num=input('Enter a number: ') #345011\n",
    "count=num.count('0')\n",
    "add=0\n",
    "sub=0\n",
    "out=0\n",
    "if count==1:\n",
    "    for i in range(len(num)):\n",
    "        if num[i]=='0':\n",
    "            mark=i\n",
    "            for j in num[:mark]:\n",
    "                add=add+int(j)\n",
    "            for k in num[mark+1:]:\n",
    "                sub=sub+int(k)\n",
    "            print(add-sub)"
   ]
  },
  {
   "cell_type": "code",
   "execution_count": null,
   "id": "4c7c2c32",
   "metadata": {},
   "outputs": [],
   "source": []
  }
 ],
 "metadata": {
  "kernelspec": {
   "display_name": "Python 3",
   "language": "python",
   "name": "python3"
  },
  "language_info": {
   "codemirror_mode": {
    "name": "ipython",
    "version": 3
   },
   "file_extension": ".py",
   "mimetype": "text/x-python",
   "name": "python",
   "nbconvert_exporter": "python",
   "pygments_lexer": "ipython3",
   "version": "3.8.8"
  }
 },
 "nbformat": 4,
 "nbformat_minor": 5
}
