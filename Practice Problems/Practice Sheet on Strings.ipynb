{
 "cells": [
  {
   "cell_type": "code",
   "execution_count": 9,
   "id": "bd3684c3",
   "metadata": {},
   "outputs": [
    {
     "name": "stdout",
     "output_type": "stream",
     "text": [
      "Enter a string: This is CSE110 Course.\n",
      "The number of Alphabets in the string is: 15\n",
      "The number of Digits in the string is : 3\n",
      "The number of Special characters in the string is: 4\n"
     ]
    }
   ],
   "source": [
    "word=input('Enter a string: ')\n",
    "alph=0\n",
    "digit=0\n",
    "sp=0\n",
    "for ch in word:\n",
    "    if ch.isnumeric():\n",
    "        digit+=1\n",
    "    elif ch.isalpha():\n",
    "        alph+=1\n",
    "sp=len(word)-alph-digit\n",
    "print('The number of Alphabets in the string is:',alph)\n",
    "print('The number of Digits in the string is :',digit)\n",
    "print('The number of Special characters in the string is:',sp)"
   ]
  },
  {
   "cell_type": "code",
   "execution_count": 5,
   "id": "906c8de1",
   "metadata": {},
   "outputs": [
    {
     "data": {
      "text/plain": [
       "['__add__',\n",
       " '__class__',\n",
       " '__contains__',\n",
       " '__delattr__',\n",
       " '__dir__',\n",
       " '__doc__',\n",
       " '__eq__',\n",
       " '__format__',\n",
       " '__ge__',\n",
       " '__getattribute__',\n",
       " '__getitem__',\n",
       " '__getnewargs__',\n",
       " '__gt__',\n",
       " '__hash__',\n",
       " '__init__',\n",
       " '__init_subclass__',\n",
       " '__iter__',\n",
       " '__le__',\n",
       " '__len__',\n",
       " '__lt__',\n",
       " '__mod__',\n",
       " '__mul__',\n",
       " '__ne__',\n",
       " '__new__',\n",
       " '__reduce__',\n",
       " '__reduce_ex__',\n",
       " '__repr__',\n",
       " '__rmod__',\n",
       " '__rmul__',\n",
       " '__setattr__',\n",
       " '__sizeof__',\n",
       " '__str__',\n",
       " '__subclasshook__',\n",
       " 'capitalize',\n",
       " 'casefold',\n",
       " 'center',\n",
       " 'count',\n",
       " 'encode',\n",
       " 'endswith',\n",
       " 'expandtabs',\n",
       " 'find',\n",
       " 'format',\n",
       " 'format_map',\n",
       " 'index',\n",
       " 'isalnum',\n",
       " 'isalpha',\n",
       " 'isascii',\n",
       " 'isdecimal',\n",
       " 'isdigit',\n",
       " 'isidentifier',\n",
       " 'islower',\n",
       " 'isnumeric',\n",
       " 'isprintable',\n",
       " 'isspace',\n",
       " 'istitle',\n",
       " 'isupper',\n",
       " 'join',\n",
       " 'ljust',\n",
       " 'lower',\n",
       " 'lstrip',\n",
       " 'maketrans',\n",
       " 'partition',\n",
       " 'replace',\n",
       " 'rfind',\n",
       " 'rindex',\n",
       " 'rjust',\n",
       " 'rpartition',\n",
       " 'rsplit',\n",
       " 'rstrip',\n",
       " 'split',\n",
       " 'splitlines',\n",
       " 'startswith',\n",
       " 'strip',\n",
       " 'swapcase',\n",
       " 'title',\n",
       " 'translate',\n",
       " 'upper',\n",
       " 'zfill']"
      ]
     },
     "execution_count": 5,
     "metadata": {},
     "output_type": "execute_result"
    }
   ],
   "source": [
    "dir(\"ok\")"
   ]
  },
  {
   "cell_type": "code",
   "execution_count": 17,
   "id": "a3247265",
   "metadata": {},
   "outputs": [
    {
     "name": "stdout",
     "output_type": "stream",
     "text": [
      "Enter a string:It is a string with the smallest and largest word.\n",
      "The largest word is \" smallest \" and the smallest word is \" a \".\n"
     ]
    }
   ],
   "source": [
    "word=input('Enter a string:')\n",
    "word_list=word.split(' ')\n",
    "maxm=word_list[0]\n",
    "minm=word_list[0]\n",
    "for a in word_list:\n",
    "    if len(a)>len(maxm):\n",
    "        maxm=a\n",
    "    elif len(a)<len(minm):\n",
    "        minm=a\n",
    "print('The largest word is \"', maxm,'\" and the smallest word is \"',minm,'\".')\n"
   ]
  },
  {
   "cell_type": "code",
   "execution_count": 24,
   "id": "e9c83122",
   "metadata": {},
   "outputs": [
    {
     "name": "stdout",
     "output_type": "stream",
     "text": [
      "Enter a string: this is cSe110 course and we love it\n",
      "Enter another string: 1ilv\n",
      "ths s cSe0 course and we oe t\n"
     ]
    }
   ],
   "source": [
    "word1=input('Enter a string: ')\n",
    "word2=input('Enter another string: ')\n",
    "new=''\n",
    "for ch in word1:\n",
    "    if ch in word2:\n",
    "        if ch.isspace():\n",
    "            new=new+ch\n",
    "    else:\n",
    "        new=new+ch\n",
    "print(new)"
   ]
  },
  {
   "cell_type": "code",
   "execution_count": 4,
   "id": "6cea6ece",
   "metadata": {},
   "outputs": [
    {
     "name": "stdout",
     "output_type": "stream",
     "text": [
      "Enter a string: I love python programming\n",
      "I Llove Ppython Pprogramming\n"
     ]
    }
   ],
   "source": [
    "#4 \n",
    "word=input('Enter a string: ')\n",
    "new=''\n",
    "for i in range(len(word)-1):\n",
    "    if word[i]==' ':\n",
    "        new=new+word[i]\n",
    "        new=new+chr(ord(word[i+1])-32)\n",
    "    else:\n",
    "        new=new+word[i]\n",
    "print(new+word[-1])"
   ]
  },
  {
   "cell_type": "code",
   "execution_count": 11,
   "id": "23a5b85a",
   "metadata": {},
   "outputs": [
    {
     "name": "stdout",
     "output_type": "stream",
     "text": [
      "Enter a string: 100,12,134,0\n",
      "['100', '12', '134', '0']\n",
      "0\n"
     ]
    }
   ],
   "source": [
    "strng=input('Enter a string: ').split(',')\n",
    "print(strng)\n",
    "product=1\n",
    "out=[int(i) for i in strng]\n",
    "for num in out:\n",
    "    product=product*num\n",
    "print(product)"
   ]
  },
  {
   "cell_type": "code",
   "execution_count": 2,
   "id": "ca138f90",
   "metadata": {},
   "outputs": [
    {
     "name": "stdout",
     "output_type": "stream",
     "text": [
      "Enter a number: 5\n",
      "1+11+111+1111+11111\n",
      "12345\n"
     ]
    }
   ],
   "source": [
    "num=input('Enter a number: ')  #5=1+11+111+1111+11111=1234\n",
    "count=0\n",
    "out=0\n",
    "for i in range(int(num)):\n",
    "    new='1'*(i+1)\n",
    "    count+=1\n",
    "    if count<int(num):\n",
    "        print(new,end='+')\n",
    "        out=int(new)+out\n",
    "    else:\n",
    "        print(new)\n",
    "        out=int(new)+out\n",
    "print(out)   "
   ]
  },
  {
   "cell_type": "code",
   "execution_count": 2,
   "id": "a1401f5b",
   "metadata": {},
   "outputs": [
    {
     "name": "stdout",
     "output_type": "stream",
     "text": [
      "Enter a number: 15\n",
      "15X0=0\n",
      "15X1=15\n",
      "15X2=30\n",
      "15X3=45\n",
      "15X4=60\n",
      "15X5=75\n",
      "15X6=90\n",
      "15X7=105\n",
      "15X8=120\n",
      "15X9=135\n",
      "15X10=150\n"
     ]
    }
   ],
   "source": [
    "num=input('Enter a number: ')\n",
    "for i in range(11):\n",
    "    product=int(num)*i\n",
    "    print(num+'X'+str(i)+'='+str(product),end='\\n')"
   ]
  },
  {
   "cell_type": "code",
   "execution_count": 10,
   "id": "2c34e2a3",
   "metadata": {},
   "outputs": [
    {
     "name": "stdout",
     "output_type": "stream",
     "text": [
      "I love programming\n",
      "['I', 'love', 'programming']\n",
      "I Love Programming\n",
      "I Love Programming \n"
     ]
    }
   ],
   "source": [
    "#4\n",
    "string = input().split(\" \")\n",
    "print(string)\n",
    "\n",
    "for i in range(len(string)):\n",
    "  if ord(string[i][0]) >=97 and ord(string[i][0]) <= 122:\n",
    "    string[i] = chr(ord(string[i][0])-32) + string[i][1:]\n",
    "\n",
    "#print(*string)\n",
    "out=''\n",
    "for j in string:\n",
    "    print(j+out,end=' ')\n",
    "print(out)    \n"
   ]
  },
  {
   "cell_type": "code",
   "execution_count": 8,
   "id": "5658c7e3",
   "metadata": {},
   "outputs": [
    {
     "name": "stdout",
     "output_type": "stream",
     "text": [
      "Enter a string: I Love Programming\n",
      "['I', 'Love', 'Programming']\n",
      "I IL ILoveP "
     ]
    }
   ],
   "source": []
  },
  {
   "cell_type": "code",
   "execution_count": null,
   "id": "03434ffb",
   "metadata": {},
   "outputs": [],
   "source": []
  }
 ],
 "metadata": {
  "kernelspec": {
   "display_name": "Python 3",
   "language": "python",
   "name": "python3"
  },
  "language_info": {
   "codemirror_mode": {
    "name": "ipython",
    "version": 3
   },
   "file_extension": ".py",
   "mimetype": "text/x-python",
   "name": "python",
   "nbconvert_exporter": "python",
   "pygments_lexer": "ipython3",
   "version": "3.8.8"
  }
 },
 "nbformat": 4,
 "nbformat_minor": 5
}
