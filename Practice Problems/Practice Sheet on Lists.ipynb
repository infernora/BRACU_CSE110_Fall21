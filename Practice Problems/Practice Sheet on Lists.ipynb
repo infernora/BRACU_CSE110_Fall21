{
 "cells": [
  {
   "cell_type": "code",
   "execution_count": 19,
   "id": "596a2313",
   "metadata": {},
   "outputs": [
    {
     "name": "stdout",
     "output_type": "stream",
     "text": [
      "90 6\n",
      "30 100\n",
      "-30 -2\n",
      "20 -5\n",
      "12 -8\n"
     ]
    }
   ],
   "source": [
    "list1 = [90,30,-30,20,12]\n",
    "list2 = [-8,-5,-2,100,6]\n",
    "\n",
    "list3=[]                     #first reversed list2\n",
    "count=len(list2)-1\n",
    "for i in range(len(list2)):\n",
    "    list3.append(list2[count])\n",
    "    count-=1\n",
    "    \n",
    "num=0\n",
    "for i in range(len(list1)):\n",
    "    print(list1[i],list3[num])\n",
    "    num=num+1"
   ]
  },
  {
   "cell_type": "code",
   "execution_count": 1,
   "id": "4dbbfaa7",
   "metadata": {},
   "outputs": [
    {
     "name": "stdout",
     "output_type": "stream",
     "text": [
      "['deR', 'neerG', 'eulB', 'etihW', 'kcalB']\n"
     ]
    }
   ],
   "source": [
    "input= ['Red','Green','Blue','White','Black']    #variable set to zero, empty list, empty string\n",
    "new_list=[]\n",
    "\n",
    "for i in input:\n",
    "    opposite=''\n",
    "    count=len(i)-1\n",
    "    for j in range(len(i)):     #i=RED j=012\n",
    "        opposite=opposite+i[count]\n",
    "        count=count-1\n",
    "    new_list.append(opposite)\n",
    "print(new_list)    "
   ]
  },
  {
   "cell_type": "code",
   "execution_count": 10,
   "id": "c308e38d",
   "metadata": {},
   "outputs": [
    {
     "name": "stdout",
     "output_type": "stream",
     "text": [
      "Enter length of the list: 5\n",
      "Enter any string: 2\n",
      "Enter any string: 4\n",
      "Enter any string: 6\n",
      "Enter any string: 8\n",
      "Enter any string: 10\n",
      "Input: [2, 4, 6, 8, 10]\n",
      "First even: 2 and First odd: Not found\n"
     ]
    }
   ],
   "source": [
    "num_list=[]\n",
    "num_length=int(input('Enter length of the list: '))\n",
    "for i in range(num_length):\n",
    "    num=int(input('Enter any string: '))\n",
    "    num_list.append(num)\n",
    "print('Input:',num_list)\n",
    "even_count=0\n",
    "odd_count=0\n",
    "for i in num_list:\n",
    "    if i%2==0:\n",
    "        even_count=i\n",
    "        break\n",
    "    else:\n",
    "        even_count='Not found'\n",
    "for j in num_list:\n",
    "    if j%2!=0:\n",
    "        odd_count=j\n",
    "        break\n",
    "    else:\n",
    "        odd_count='Not found'\n",
    "print('First even:', even_count,'and First odd:', odd_count)     "
   ]
  },
  {
   "cell_type": "markdown",
   "id": "0b437a32",
   "metadata": {},
   "source": []
  },
  {
   "cell_type": "code",
   "execution_count": 1,
   "id": "728dc723",
   "metadata": {},
   "outputs": [
    {
     "name": "stdout",
     "output_type": "stream",
     "text": [
      "Enter string: a,s,d,f,g\n",
      "Enter a number: 3\n",
      "['a1', 's1', 'd1', 'f1', 'g1', 'a2', 's2', 'd2', 'f2', 'g2', 'a3', 's3', 'd3', 'f3', 'g3']\n"
     ]
    }
   ],
   "source": [
    "T = input('Enter string: ').split(',')\n",
    "N = int(input('Enter a number: '))\n",
    "new_list=[]\n",
    "for i in range(N):\n",
    "    for j in T:\n",
    "        new=j+str(i+1)\n",
    "        new_list.append(new)\n",
    "print(new_list)"
   ]
  },
  {
   "cell_type": "code",
   "execution_count": 2,
   "id": "b96e5b8f",
   "metadata": {},
   "outputs": [
    {
     "name": "stdout",
     "output_type": "stream",
     "text": [
      "['deR', 'neerG', 'eulB', 'etihW', 'kcalB']\n"
     ]
    }
   ],
   "source": [
    "#problem 2 alternate\n",
    "input= ['Red','Green','Blue','White','Black'] \n",
    "new_list=[]\n",
    "for i in input:\n",
    "    new_list.append(i[::-1])\n",
    "print(new_list)"
   ]
  },
  {
   "cell_type": "code",
   "execution_count": null,
   "id": "cc1285c9",
   "metadata": {},
   "outputs": [],
   "source": []
  }
 ],
 "metadata": {
  "kernelspec": {
   "display_name": "Python 3",
   "language": "python",
   "name": "python3"
  },
  "language_info": {
   "codemirror_mode": {
    "name": "ipython",
    "version": 3
   },
   "file_extension": ".py",
   "mimetype": "text/x-python",
   "name": "python",
   "nbconvert_exporter": "python",
   "pygments_lexer": "ipython3",
   "version": "3.8.8"
  }
 },
 "nbformat": 4,
 "nbformat_minor": 5
}
