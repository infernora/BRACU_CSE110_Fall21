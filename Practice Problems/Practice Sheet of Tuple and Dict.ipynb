{
 "cells": [
  {
   "cell_type": "code",
   "execution_count": 5,
   "id": "adafa3c5",
   "metadata": {},
   "outputs": [
    {
     "name": "stdout",
     "output_type": "stream",
     "text": [
      "Enter numbers: \"1232, 4455, 1234, 9876, 1111\"\n",
      "((1232, 4455, 1111), (1234, 9876))\n"
     ]
    }
   ],
   "source": [
    "#1)\"1232, 4455, 1234, 9876, 1111\"->((1232, 4455, 1111), (1234, 9876))\n",
    "\n",
    "num=input('Enter numbers: ')\n",
    "num1=num.strip('\"')\n",
    "a_list=num1.split(', ')\n",
    "m_list=[]\n",
    "n_list=[]\n",
    "\n",
    "for i in a_list:\n",
    "    sum_odd=0\n",
    "    sum_even=0\n",
    "    for j in range(len(i)):\n",
    "        if j%2==0:\n",
    "            sum_even+=int(i[j])\n",
    "        else:\n",
    "            sum_odd+=int(i[j])\n",
    "    if sum_odd==sum_even:\n",
    "        m_list.append(int(i))\n",
    "    else:\n",
    "        n_list.append(int(i))\n",
    "final_list=[]\n",
    "final_list.append(tuple(m_list))\n",
    "final_list.append(tuple(n_list))\n",
    "print(tuple(final_list))\n"
   ]
  },
  {
   "cell_type": "code",
   "execution_count": 30,
   "id": "b99199fa",
   "metadata": {},
   "outputs": [
    {
     "name": "stdout",
     "output_type": "stream",
     "text": [
      "Enter colors: RBRRBBR\n",
      "(('Red', 4), ('Blue', 3))\n"
     ]
    }
   ],
   "source": [
    "#2)\"RGBRRGBBR\"->(('Red', 4), ('Green', 2), ('Blue', 3))\n",
    "#or RBRRBBR-> (('Red', 4), ('Blue', 3))\n",
    "colour=input('Enter colors: ')\n",
    "countR=0\n",
    "countB=0\n",
    "countG=0\n",
    "for i in colour:\n",
    "    if i=='R':\n",
    "        countR+=1\n",
    "    elif i=='B':\n",
    "        countB+=1\n",
    "    elif i=='G':\n",
    "        countG+=1\n",
    "tupleR=('Red',countR)\n",
    "tupleB=('Blue',countB)\n",
    "tupleG=('Green',countG)\n",
    "\n",
    "list1=[]\n",
    "list1.append(tupleR)\n",
    "list1.append(tupleB)\n",
    "list1.append(tupleG)\n",
    "\n",
    "new_list=[]\n",
    "for i in list1:\n",
    "    if i[1]==0:\n",
    "        pass\n",
    "    else:\n",
    "        new_list.append(i)\n",
    "print(tuple(new_list))"
   ]
  },
  {
   "cell_type": "code",
   "execution_count": 4,
   "id": "b8bb1978",
   "metadata": {},
   "outputs": [
    {
     "name": "stdout",
     "output_type": "stream",
     "text": [
      "[22.0, 39.2, 63.75, 3.5]\n"
     ]
    }
   ],
   "source": [
    "#3)\n",
    "given=\"((33, 22, 11), (30, 45, 56, 45,20), (81, 90, 39, 45), (1, 2, 3, 4,5,6))\"\n",
    "\n",
    "data=given.split(')')\n",
    "average=[]\n",
    "max_sum=None\n",
    "max_tuple=None\n",
    "\n",
    "for tup_elem in data:\n",
    "    if len(tup_elem)>1:\n",
    "        tup_elem=tup_elem.strip(', ')\n",
    "        tup_elem=tup_elem.strip('(')\n",
    "        num_list=tup_elem.split(',')\n",
    "        temp=[]\n",
    "        for num in num_list:\n",
    "            temp.append(int(num))\n",
    "        current_sum=sum(temp)\n",
    "        avg=sum(temp)/len(temp)\n",
    "        average.append(avg)\n",
    "        \n",
    "print('average is',average)"
   ]
  },
  {
   "cell_type": "code",
   "execution_count": 18,
   "id": "c930beef",
   "metadata": {},
   "outputs": [
    {
     "name": "stdout",
     "output_type": "stream",
     "text": [
      "{'w': [50], 'x': [100, 300], 'y': ['Green', 'Red'], 'z': [400, 600]}\n"
     ]
    }
   ],
   "source": [
    "#4)\n",
    "dict1 = {'w': 50, 'x': 100, 'y': 'Green', 'z': 400}\n",
    "dict2 = {'x': 300, 'y': 'Red', 'z': 600} \n",
    "merge={}\n",
    "a_list=[]\n",
    "for x,y in dict1.items():\n",
    "    merge[x]=[]\n",
    "for x,y in dict2.items():\n",
    "    merge[x]=[]\n",
    "for i,j in dict1.items():\n",
    "    merge[i].append(j)\n",
    "for i,j in dict2.items():\n",
    "    merge[i].append(j)\n",
    "print(merge)"
   ]
  },
  {
   "cell_type": "code",
   "execution_count": null,
   "id": "e99a918b",
   "metadata": {},
   "outputs": [],
   "source": [
    "#5)\n",
    "dict1={\"a\":[5,2,55,17],\"P\":(11,121,222),\"B\":(37,53,71),\"c\":[45,92,50]}\n",
    "dict_prime={}\n",
    "\n",
    "for key,value in dict1.items():\n",
    "    prime=[]\n",
    "    for j in value:\n",
    "        if num==prime:\n",
    "            prime.append(j)\n",
    "    "
   ]
  },
  {
   "cell_type": "code",
   "execution_count": 23,
   "id": "ce887c8f",
   "metadata": {},
   "outputs": [
    {
     "name": "stdout",
     "output_type": "stream",
     "text": [
      "Additive Damage Score is 60\n",
      "The agent's name is Rage\n"
     ]
    }
   ],
   "source": [
    "#6)\n",
    "given_dict ={ \"Normal Skills\":[10,10,10], \"Ultimate Skill\":30 }\n",
    "add_score=0\n",
    "for i in given_dict[\"Normal Skills\"]:\n",
    "    add_score+=i\n",
    "add_score+=given_dict[\"Ultimate Skill\"]\n",
    "print('Additive Damage Score is',add_score)\n",
    "\n",
    "if add_score<=70:\n",
    "    agent='Rage'\n",
    "elif add_score<=100:\n",
    "    agent='Jett'\n",
    "else:\n",
    "    agent='Sage'\n",
    "print(\"The agent's name is\",agent)"
   ]
  },
  {
   "cell_type": "code",
   "execution_count": null,
   "id": "1a96c7ea",
   "metadata": {},
   "outputs": [],
   "source": []
  }
 ],
 "metadata": {
  "kernelspec": {
   "display_name": "Python 3",
   "language": "python",
   "name": "python3"
  },
  "language_info": {
   "codemirror_mode": {
    "name": "ipython",
    "version": 3
   },
   "file_extension": ".py",
   "mimetype": "text/x-python",
   "name": "python",
   "nbconvert_exporter": "python",
   "pygments_lexer": "ipython3",
   "version": "3.8.8"
  }
 },
 "nbformat": 4,
 "nbformat_minor": 5
}
