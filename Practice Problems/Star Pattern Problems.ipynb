{
 "cells": [
  {
   "cell_type": "code",
   "execution_count": 1,
   "id": "37f26ae1",
   "metadata": {},
   "outputs": [
    {
     "name": "stdout",
     "output_type": "stream",
     "text": [
      "Enter a number: 5\n",
      "Enter a number: 6\n",
      "123456\n",
      "123456\n",
      "123456\n",
      "123456\n",
      "123456\n"
     ]
    }
   ],
   "source": [
    "#STAR PATTERN PROBLEMS 1, NUMBER RECTANGLE \n",
    "row=int(input('Enter a number: '))\n",
    "column=int(input('Enter a number: '))\n",
    "for i in range(row):\n",
    "    for j in range(1,column+1):             #first code runs through inner loop column number of times\n",
    "        print(j,end='')                     \n",
    "    print('',end='\\n')                      #Then code prints black and starts newline at the outer loop. This runs for row times\n",
    "                                            #note:newline is \\n"
   ]
  },
  {
   "cell_type": "code",
   "execution_count": 2,
   "id": "ec67e8ad",
   "metadata": {},
   "outputs": [
    {
     "name": "stdout",
     "output_type": "stream",
     "text": [
      "Enter a number: 5\n",
      "\n",
      "*\n",
      "**\n",
      "***\n",
      "****\n",
      "*****\n"
     ]
    }
   ],
   "source": [
    "#STAR PATTERN PROBLEMS 2, RIGHT ANGLED TRIANGLE\n",
    "row=int(input('Enter a number: '))\n",
    "for i in range (row+1):\n",
    "    print('*'*i)                    #strings can be multiplied\n",
    "    "
   ]
  },
  {
   "cell_type": "code",
   "execution_count": 3,
   "id": "458fe9e1",
   "metadata": {},
   "outputs": [
    {
     "name": "stdout",
     "output_type": "stream",
     "text": [
      "Enter a number: 4\n",
      "1\n",
      "12\n",
      "123\n",
      "1234\n"
     ]
    }
   ],
   "source": [
    "#STAR PROBLEMS 3, RIGHT ANGLED TRIANGLE WITH NUMBERS\n",
    "row=int(input('Enter a number: '))\n",
    "for i in range(1,row+1):\n",
    "    for j in range(1,i+1):          #in each row, j will not exceed i\n",
    "        print(j,end='')\n",
    "    print('',end='\\n')\n",
    "    "
   ]
  },
  {
   "cell_type": "code",
   "execution_count": 4,
   "id": "1f4b4ee8",
   "metadata": {},
   "outputs": [
    {
     "name": "stdout",
     "output_type": "stream",
     "text": [
      "Enter a number: 4\n",
      "    *\n",
      "   **\n",
      "  ***\n",
      " ****\n"
     ]
    }
   ],
   "source": [
    "#STAR PROBLEMS 4, RIGHT ANGLED TRIANGLE\n",
    "row=int(input('Enter a number: '))\n",
    "for i in range(1,row+1):\n",
    "    print(' '*(row-i),i*'*')"
   ]
  },
  {
   "cell_type": "code",
   "execution_count": 5,
   "id": "7180c4ba",
   "metadata": {},
   "outputs": [
    {
     "name": "stdout",
     "output_type": "stream",
     "text": [
      "Enter a number: 7\n",
      "      1\n",
      "     12\n",
      "    123\n",
      "   1234\n",
      "  12345\n",
      " 123456\n",
      "1234567\n"
     ]
    }
   ],
   "source": [
    "#STAR PROBLEMS 5, RIGHT ANGLED TRIANGLE WITH NUMBERS\n",
    "row=int(input('Enter a number: '))\n",
    "for i in range (1,row+1):\n",
    "    print(' '*(row-i),end='')         #This ensures space first #Outside inner loop or else space occurs after EVERY number j\n",
    "    for j in range(1,i+1):\n",
    "        print(j,end='')\n",
    "    print('',end='\\n')\n",
    "    "
   ]
  },
  {
   "cell_type": "code",
   "execution_count": 6,
   "id": "ad458829",
   "metadata": {},
   "outputs": [
    {
     "name": "stdout",
     "output_type": "stream",
     "text": [
      "Enter a number: 4\n",
      "   *\n",
      "  ***\n",
      " *****\n",
      "*******\n"
     ]
    }
   ],
   "source": [
    "#STAR PROBLEM 6, ISOSCELES TRIANGLE\n",
    "row=int(input('Enter a number: '))\n",
    "for i in range (row):\n",
    "    for j in range (1,row-i):     #row-i number of spaces will be printed  \n",
    "        print(' ',end='')\n",
    "    for j in range(2*i+1):        #odd number of stars will be printed only\n",
    "        print('*',end='')\n",
    "    print('')\n",
    "    "
   ]
  },
  {
   "cell_type": "code",
   "execution_count": 7,
   "id": "13f72e86",
   "metadata": {},
   "outputs": [
    {
     "name": "stdout",
     "output_type": "stream",
     "text": [
      "Enter a number: 4\n",
      "   1\n",
      "  123\n",
      " 12345\n",
      "1234567\n"
     ]
    }
   ],
   "source": [
    "#STAR PROBLEM 7, ISOSCELES TRIANGLE\n",
    "row=int(input('Enter a number: '))\n",
    "for i in range (1,row+1):          \n",
    "    for j in range (0,row-i):     \n",
    "        print(' ',end='')\n",
    "    for j in range(1,2*i):\n",
    "        print(j,end='')\n",
    "    print('') "
   ]
  },
  {
   "cell_type": "code",
   "execution_count": null,
   "id": "531612a6",
   "metadata": {},
   "outputs": [],
   "source": [
    "#STAR PROBLEM 8, RHOMBUS"
   ]
  }
 ],
 "metadata": {
  "kernelspec": {
   "display_name": "Python 3",
   "language": "python",
   "name": "python3"
  },
  "language_info": {
   "codemirror_mode": {
    "name": "ipython",
    "version": 3
   },
   "file_extension": ".py",
   "mimetype": "text/x-python",
   "name": "python",
   "nbconvert_exporter": "python",
   "pygments_lexer": "ipython3",
   "version": "3.8.8"
  }
 },
 "nbformat": 4,
 "nbformat_minor": 5
}
