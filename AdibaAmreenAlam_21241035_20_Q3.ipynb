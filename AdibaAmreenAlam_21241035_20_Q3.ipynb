{
 "cells": [
  {
   "cell_type": "code",
   "execution_count": 4,
   "id": "aa37feac",
   "metadata": {},
   "outputs": [
    {
     "name": "stdout",
     "output_type": "stream",
     "text": [
      "Rezwan:70,88,90;Rohit:55,66,29;Tamim:40,90,32,66.\n",
      "{'Rezwan': 82.66666666666667, 'Rohit': 50.0, 'Tamim': 57.0}\n"
     ]
    }
   ],
   "source": [
    "string=input()\n",
    "#Babar:56,86,56;Kohli:78,55;Sakib:45,67,89,40.\n",
    "#Rezwan:70,88,90;Rohit:55,66,29;Tamim:40,90,32,66.\n",
    "new_string=string.strip(\".\")\n",
    "data=new_string.split(';')\n",
    "#print(data)\n",
    "dict1={}\n",
    "for elem in data:\n",
    "    #print(elem)\n",
    "    sum=0\n",
    "    elem=elem.replace(':',',')\n",
    "    elem=elem.split(',')\n",
    "    dict1[elem[0]]=0\n",
    "    for i in range(1,len(elem)):\n",
    "        sum=sum+int(elem[i])\n",
    "    avg=sum/(len(elem)-1)\n",
    "    #print(avg)\n",
    "    dict1[elem[0]]=avg\n",
    "print(dict1)        \n"
   ]
  },
  {
   "cell_type": "code",
   "execution_count": null,
   "id": "a7d37258",
   "metadata": {},
   "outputs": [],
   "source": []
  },
  {
   "cell_type": "code",
   "execution_count": null,
   "id": "ab444f40",
   "metadata": {},
   "outputs": [],
   "source": []
  },
  {
   "cell_type": "code",
   "execution_count": null,
   "id": "f931b354",
   "metadata": {},
   "outputs": [],
   "source": []
  }
 ],
 "metadata": {
  "kernelspec": {
   "display_name": "Python 3",
   "language": "python",
   "name": "python3"
  },
  "language_info": {
   "codemirror_mode": {
    "name": "ipython",
    "version": 3
   },
   "file_extension": ".py",
   "mimetype": "text/x-python",
   "name": "python",
   "nbconvert_exporter": "python",
   "pygments_lexer": "ipython3",
   "version": "3.8.8"
  }
 },
 "nbformat": 4,
 "nbformat_minor": 5
}
