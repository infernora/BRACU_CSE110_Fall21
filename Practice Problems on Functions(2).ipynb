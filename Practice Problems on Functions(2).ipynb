{
 "cells": [
  {
   "cell_type": "code",
   "execution_count": 4,
   "id": "d8141323",
   "metadata": {},
   "outputs": [
    {
     "name": "stdout",
     "output_type": "stream",
     "text": [
      "['112p112', '121y121', '116t116', '104h104', '111o111', '110n110', '98b98', '107k107']\n"
     ]
    }
   ],
   "source": [
    "#1) \n",
    "def unique_char(string):\n",
    "    my_list=[]\n",
    "    for i in string:\n",
    "        numstrnum=str(ord(i))+i+str(ord(i))                #ord/char is changed by first brackets. ord is int class.\n",
    "        if numstrnum not in my_list:\n",
    "            my_list.append(numstrnum)\n",
    "    return my_list    \n",
    "        \n",
    "    \n",
    "print(unique_char('pythonbook'))"
   ]
  },
  {
   "cell_type": "code",
   "execution_count": 12,
   "id": "7da5dd12",
   "metadata": {},
   "outputs": [
    {
     "name": "stdout",
     "output_type": "stream",
     "text": [
      "{'p': [0, -10], 'y': [1, -9], 't': [2, -8], 'h': [3, -7], 'o': [4, -6, 7, -3, 8, -2], 'n': [5, -5], 'b': [6, -4], 'k': [9, -1]}\n"
     ]
    }
   ],
   "source": [
    "#2)\n",
    "def ind_dict(string):\n",
    "    my_dict={}\n",
    "    for i in range(len(string)):\n",
    "        my_dict[string[i]]=[]\n",
    "    for j in range(len(string)):  \n",
    "        my_dict[string[j]].append(j)\n",
    "        my_dict[string[j]].append(j-len(string))            #dict key, index takes third bracket and append takes first bracket\n",
    "    return my_dict\n",
    "        \n",
    "        \n",
    "print(ind_dict('pythonbook'))"
   ]
  },
  {
   "cell_type": "code",
   "execution_count": 5,
   "id": "3ab19ac6",
   "metadata": {},
   "outputs": [
    {
     "name": "stdout",
     "output_type": "stream",
     "text": [
      "my_dict {'go': 3, 'there': 2, 'come': 1, 'and': 2, 'here': 1, 'care': 1}\n",
      "key list ['go', 'there', 'come', 'and', 'here', 'care']\n",
      "new list [1, 1, 1, 2, 2, 3]\n",
      "{'come': 1, 'here': 1, 'care': 1, 'there': 2, 'and': 2, 'go': 3}\n"
     ]
    }
   ],
   "source": [
    " #3)                               \n",
    "def word_count(string):\n",
    "    my_list=string.split(' ')    \n",
    "    my_dict={}\n",
    "    key_list=[]\n",
    "    value_list=[]                           \n",
    "    for i in my_list:\n",
    "        my_dict[i]=my_list.count(i)\n",
    "    print('my_dict',my_dict)\n",
    "    for i in my_list:\n",
    "        if i not in key_list:\n",
    "            key_list.append(i)\n",
    "    print('key list', key_list)\n",
    "    for j in key_list:\n",
    "        value_list.append(my_list.count(j))        #made an unsorted dictionary+an unsorted key list+a sorted value list\n",
    "    new_list=sorted(value_list)\n",
    "    print('new list',new_list)\n",
    "    new_dict={}\n",
    "    for x in new_list:                            #for x in new sorted list of values, found the first value in dict that matched first value in sorted and ordered list, then updated dic to add that first\n",
    "        for j,k in my_dict.items():\n",
    "            if x==k:\n",
    "                new_dict.update({j:k})\n",
    "    return(new_dict)\n",
    "                \n",
    "    \n",
    "        \n",
    "print(word_count(\"go there come and go here and there go care\"))"
   ]
  },
  {
   "cell_type": "code",
   "execution_count": 43,
   "id": "0cd8748c",
   "metadata": {},
   "outputs": [
    {
     "name": "stdout",
     "output_type": "stream",
     "text": [
      "{2: ('even', 'prime', 'not perfect'), 4: ('even', 'not prime', 'not perfect'), 1: ('odd', 'prime', 'not perfect'), 3: ('odd', 'prime', 'not perfect'), 9: ('odd', 'not prime', 'not perfect'), 6: ('even', 'not prime', 'perfect')}\n"
     ]
    }
   ],
   "source": [
    "#4)\n",
    "def even_check(e):\n",
    "    flag='even'\n",
    "    if e%2!=0:\n",
    "        flag='odd'\n",
    "    return flag\n",
    "    \n",
    "def prime_check(pr):\n",
    "    check='prime'\n",
    "    for j in range(2,pr):\n",
    "        if pr==1:\n",
    "            pass\n",
    "        elif pr%j==0:\n",
    "            check='not prime'\n",
    "            pass\n",
    "    return check\n",
    "\n",
    "def perfect_check(pe):\n",
    "    sum=0\n",
    "    count='not perfect'\n",
    "    for k in range(1,pe):\n",
    "        if pe%k==0:\n",
    "            sum+=k\n",
    "    if sum==pe:\n",
    "        count='perfect'\n",
    "    return count\n",
    "    \n",
    "def dict_maker(string):\n",
    "    my_dict={}\n",
    "    for i in string:\n",
    "        even= even_check(int(i))\n",
    "        prime= prime_check(int(i))\n",
    "        perfect= perfect_check(int(i))\n",
    "        tup_for_digit = (even, prime, perfect)\n",
    "        my_dict.update({int(i):tup_for_digit})\n",
    "    return my_dict                                     #Don't forget return statements!! They replace function call\n",
    "\n",
    "print(dict_maker('2441396'))\n"
   ]
  },
  {
   "cell_type": "code",
   "execution_count": 14,
   "id": "13debb57",
   "metadata": {},
   "outputs": [
    {
     "name": "stdout",
     "output_type": "stream",
     "text": [
      "[[3, 4], [0, 2]]\n"
     ]
    }
   ],
   "source": [
    "#5)\n",
    "def matrix_sum(a,b):\n",
    "    new_matrix=[]\n",
    "    my_matrix=[]\n",
    "    for i in range(len(a[0])):   #row1 of A (1,5)  i=0,1\n",
    "        for j in range(len(b[0])):  #row1 of B (2,-1)  j=0,1\n",
    "            if i==j:\n",
    "                my_matrix.append(a[0][i]+b[0][j])\n",
    "    new_matrix.append(my_matrix)\n",
    "    my_matrix=[]\n",
    "    for i in range(len(a[1])):\n",
    "        for j in range(len(b[1])):\n",
    "            if i==j:\n",
    "                my_matrix.append(a[1][i]+b[1][j])\n",
    "    new_matrix.append(my_matrix)  \n",
    "    return new_matrix\n",
    "                       \n",
    "            \n",
    "    \n",
    "    \n",
    "a = [ [1,5], [-4,3]]\n",
    "b = [ [2,-1] , [4,-1] ]\n",
    "\n",
    "print(matrix_sum(a,b))"
   ]
  },
  {
   "cell_type": "code",
   "execution_count": 16,
   "id": "fb6545f8",
   "metadata": {},
   "outputs": [
    {
     "name": "stdout",
     "output_type": "stream",
     "text": [
      "a: [1, 5] b: [2, -1]\n",
      "a: 1 b: 2\n",
      "a: 5 b: -1\n",
      "[3, 4]\n",
      "a: [-4, 3] b: [4, -1]\n",
      "a: -4 b: 4\n",
      "a: 3 b: -1\n",
      "[0, 2]\n",
      "[[3, 4], [0, 2]]\n"
     ]
    }
   ],
   "source": [
    "#5)\n",
    "def summing_up(matrix_A , matrix_B):\n",
    "    if len(matrix_A)!=len(matrix_B):  #no of column check\n",
    "        print('not equal rows!')\n",
    "    else:\n",
    "        ans=[]\n",
    "        flag=False\n",
    "        for i1 in range(len(matrix_A)):  \n",
    "            rowA=matrix_A[i1]       #[1,5]\n",
    "            rowB=matrix_B[i1]       #[2,-1]\n",
    "            if len(rowA)==len(rowB):    #no of row check\n",
    "                print('a:',rowA,'b:', rowB)\n",
    "                col_sum=[]   #resetting\n",
    "                for i2 in range(len(rowA)):\n",
    "                    colA=rowA[i2]      #1\n",
    "                    colB=rowB[i2]      #2\n",
    "                    print('a:',colA,'b:', colB)\n",
    "                    col_sum.append(colA+colB)\n",
    "                print(col_sum)\n",
    "                ans.append(col_sum)\n",
    "            else:\n",
    "                flag=True\n",
    "        if flag==True:\n",
    "            print('column number not same')\n",
    "        else:\n",
    "            print(ans)\n",
    "        \n",
    "\n",
    "matrix_A = [[1,5], [-4,3]]\n",
    "matrix_B = [ [2,-1] , [4,-1] ]\n",
    "summing_up(matrix_A , matrix_B)"
   ]
  },
  {
   "cell_type": "code",
   "execution_count": 2,
   "id": "c0ec573b",
   "metadata": {},
   "outputs": [
    {
     "name": "stdout",
     "output_type": "stream",
     "text": [
      "1 2 3 4 \n",
      "4 5 6 7 \n",
      "7 8 9 3 \n",
      "9 1 2 3 \n"
     ]
    }
   ],
   "source": [
    "#6)\n",
    "def print_matrix_list(matrix):\n",
    "    for i in matrix:\n",
    "        #print(i)\n",
    "        for j in i:\n",
    "            print(j,end=' ')\n",
    "        print()                #empty print gives line break\n",
    "            \n",
    "\n",
    "matrix= [[1, 2, 3, 4], [4, 5, 6, 7], [7, 8, 9, 3], [9, 1, 2, 3]]\n",
    "print_matrix_list(matrix)"
   ]
  },
  {
   "cell_type": "code",
   "execution_count": 1,
   "id": "ebe31866",
   "metadata": {},
   "outputs": [
    {
     "name": "stdout",
     "output_type": "stream",
     "text": [
      "[[1, 2, 3, 4], [4, 5, 6, 7], [7, 8, 9, 3], [9, 1, 2, 3]]\n"
     ]
    }
   ],
   "source": [
    "#7)\n",
    "def convert_to_list(square_matrix_dict):\n",
    "    ans=list(square_matrix_dict.values())\n",
    "    return ans\n",
    "    \n",
    "    \n",
    "square_matrix_dict = {1 : [1,2,3,4] , 2 : [4,5,6,7] , 3 : [7,8,9,3] , 4:[9,1,2,3] }\n",
    "print(convert_to_list(square_matrix_dict))"
   ]
  },
  {
   "cell_type": "code",
   "execution_count": 9,
   "id": "652b0cf4",
   "metadata": {},
   "outputs": [
    {
     "name": "stdout",
     "output_type": "stream",
     "text": [
      "list of list format: [[1, 2, 3, 4], [4, 5, 6, 7], [7, 8, 9, 3], [9, 1, 2, 3]]\n",
      "in orginal square format:\n",
      "1 2 3 4 \n",
      "4 5 6 7 \n",
      "7 8 9 3 \n",
      "9 1 2 3 \n",
      "list of list format: [[1, 0, 0, 0], [0, 5, 0, 0], [0, 0, 9, 0], [0, 0, 0, 3]]\n",
      "1 0 0 0 \n",
      "0 5 0 0 \n",
      "0 0 9 0 \n",
      "0 0 0 3 \n"
     ]
    }
   ],
   "source": [
    "#8)\n",
    "def convert_to_diagonal(square_matrix_dict):\n",
    "    listoflist=convert_to_list(square_matrix_dict)\n",
    "    print('list of list format:', listoflist)\n",
    "    print('in orginal square format:')\n",
    "    print_matrix_list(listoflist)\n",
    "    \n",
    "    for i1 in range(len(listoflist)):\n",
    "        row=listoflist[i1]\n",
    "        #print('row:', i1, row)\n",
    "        for i2 in range(len(row)):\n",
    "            col=row[i2]\n",
    "            if i1==i2:\n",
    "                pass\n",
    "            else:\n",
    "                listoflist[i1][i2]=0\n",
    "    print('list of list format:',listoflist)\n",
    "    diagonal_square=print_matrix_list(listoflist)\n",
    "\n",
    "                \n",
    "def convert_to_list(square_matrix_dict):\n",
    "    ans=list(square_matrix_dict.values())\n",
    "    return ans\n",
    "\n",
    "def print_matrix_list(matrix):\n",
    "    for i in matrix:\n",
    "        #print(i)\n",
    "        for j in i:\n",
    "            print(j,end=' ')\n",
    "        print()\n",
    "\n",
    "\n",
    "square_matrix_dict = {1 : [1,2,3,4] , 2 : [4,5,6,7] , 3 : [7,8,9,3] , 4:[9,1,2,3] }\n",
    "convert_to_diagonal(square_matrix_dict)\n"
   ]
  },
  {
   "cell_type": "code",
   "execution_count": null,
   "id": "b71104a2",
   "metadata": {},
   "outputs": [],
   "source": []
  }
 ],
 "metadata": {
  "kernelspec": {
   "display_name": "Python 3",
   "language": "python",
   "name": "python3"
  },
  "language_info": {
   "codemirror_mode": {
    "name": "ipython",
    "version": 3
   },
   "file_extension": ".py",
   "mimetype": "text/x-python",
   "name": "python",
   "nbconvert_exporter": "python",
   "pygments_lexer": "ipython3",
   "version": "3.8.8"
  }
 },
 "nbformat": 4,
 "nbformat_minor": 5
}
