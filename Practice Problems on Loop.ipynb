{
 "cells": [
  {
   "cell_type": "code",
   "execution_count": 3,
   "id": "3f5aa5d3",
   "metadata": {},
   "outputs": [
    {
     "name": "stdout",
     "output_type": "stream",
     "text": [
      "Enter a number: 5\n",
      "123454321"
     ]
    }
   ],
   "source": [
    "#1)eg-4--->1234321\n",
    "num=int(input('Enter a number: '))\n",
    "for i in range(1,num):\n",
    "    print(i,end='')\n",
    "for j in range(num,0,-1):\n",
    "    print(j,end='')"
   ]
  },
  {
   "cell_type": "code",
   "execution_count": 4,
   "id": "26ae871d",
   "metadata": {},
   "outputs": [
    {
     "name": "stdout",
     "output_type": "stream",
     "text": [
      "Enter a number:  7\n",
      "0 1 1 2 3 5 8 "
     ]
    }
   ],
   "source": [
    "#2)Nth Fibonacci Numbers, make sure 0 and 1 are fixed and then change variables\n",
    "N=int(input('Enter a number:  '))\n",
    "num=0\n",
    "count=1\n",
    "for i in range(0,N):\n",
    "    if (i==0):\n",
    "        print(num,end=' ')\n",
    "    elif (i==1):\n",
    "        print(count,end=' ')\n",
    "    else:\n",
    "        sum=count+num\n",
    "        num=count\n",
    "        count=sum\n",
    "        print(count,end=' ')"
   ]
  },
  {
   "cell_type": "code",
   "execution_count": 5,
   "id": "1e8a7ae2",
   "metadata": {},
   "outputs": [
    {
     "name": "stdout",
     "output_type": "stream",
     "text": [
      "Enter a number: 5\n",
      "701\n"
     ]
    }
   ],
   "source": [
    "#3)\n",
    "sum=0\n",
    "count=int(input('Enter a number: '))\n",
    "for i in range (1,count+1):\n",
    "    num=int((i**i)/i)\n",
    "    sum=sum+num\n",
    "print(sum)\n",
    "    "
   ]
  },
  {
   "cell_type": "code",
   "execution_count": 6,
   "id": "3eca33b2",
   "metadata": {},
   "outputs": [
    {
     "name": "stdout",
     "output_type": "stream",
     "text": [
      "lower_bound: 1980\n",
      "upper_bound: 2020\n",
      "1980 1984 1988 1992 1996 2000 2004 2008 2012 2016 2020 "
     ]
    }
   ],
   "source": [
    "#4)leap year\n",
    "year1=int(input('lower_bound: '))\n",
    "year2=int(input('upper_bound: '))\n",
    "for i in range(year1,year2+1):\n",
    "    if(i%4==0):\n",
    "        if(i%100!=0):\n",
    "            print(i,end=' ')\n",
    "        else:\n",
    "            if(i%400==0):\n",
    "                print(i,end=' ')"
   ]
  },
  {
   "cell_type": "code",
   "execution_count": 7,
   "id": "12e8ae9c",
   "metadata": {},
   "outputs": [
    {
     "name": "stdout",
     "output_type": "stream",
     "text": [
      "Enter a number: 6\n",
      "Enter a number: 3\n",
      "Enter a number: 6\n",
      "Enter a number: STOP\n",
      "108\n"
     ]
    }
   ],
   "source": [
    "#5)product of all numbers until user writes STOP\n",
    "product=1\n",
    "num=input('Enter a number: ')\n",
    "while num!='STOP':\n",
    "    count=int(num)\n",
    "    num=input('Enter a number: ')\n",
    "    product=count*product\n",
    "print(product)"
   ]
  },
  {
   "cell_type": "code",
   "execution_count": 8,
   "id": "f81b4d22",
   "metadata": {},
   "outputs": [
    {
     "name": "stdout",
     "output_type": "stream",
     "text": [
      "Enter a number: 15\n",
      "15X1=15\n",
      "15X2=30\n",
      "15X3=45\n",
      "15X4=60\n",
      "15X5=75\n",
      "15X6=90\n",
      "15X7=105\n",
      "15X8=120\n",
      "15X9=135\n",
      "15X10=150\n"
     ]
    }
   ],
   "source": [
    "#6)Multiplication Table\n",
    "num=int(input('Enter a number: '))\n",
    "for i in range (1,11):\n",
    "    product=num*i\n",
    "    print(num,end='')\n",
    "    print('X',end='')\n",
    "    print(i,end='')\n",
    "    print('=',end='')\n",
    "    print(product,end='\\n')"
   ]
  },
  {
   "cell_type": "code",
   "execution_count": 9,
   "id": "7ff3ba8c",
   "metadata": {},
   "outputs": [
    {
     "name": "stdout",
     "output_type": "stream",
     "text": [
      "No. of sides: 4\n",
      "Enter side length: 1\n",
      "Enter side length: 2\n",
      "Enter side length: 3\n",
      "Enter side length: 4\n",
      "A rectangle can be drawn\n"
     ]
    }
   ],
   "source": [
    "#7)Shape drawing\n",
    "num=int(input('No. of sides: '))\n",
    "if (num==1 or num==2):\n",
    "    print('A line can be drawn')\n",
    "elif (num==3):\n",
    "    side1=int(input('Enter side length: '))\n",
    "    side2=int(input('Enter side length: '))\n",
    "    side3=int(input('Enter side length: '))\n",
    "    if ((side1+side2)>side3 or (side1+side3)>side2 or(side2+side3)>side1):\n",
    "        print('A triangle can be drawn')\n",
    "    else:\n",
    "        print('A triangle cannot be drawn')\n",
    "elif (num==4):\n",
    "    side1=int(input('Enter side length: '))\n",
    "    side2=int(input('Enter side length: '))\n",
    "    side3=int(input('Enter side length: '))\n",
    "    side4=int(input('Enter side length: '))\n",
    "    if ((side1+side2+side3)>side4 or (side1+side2+side4)>side3 or (side1+side3+side4)>side2 or (side2+side3+side4)>side1):\n",
    "        print('A rectangle can be drawn')\n",
    "    else:\n",
    "        print('A  rectangle cannot be drawn')\n",
    "else:\n",
    "    print('Invalid Input')\n"
   ]
  },
  {
   "cell_type": "code",
   "execution_count": 10,
   "id": "707e034b",
   "metadata": {},
   "outputs": [
    {
     "name": "stdout",
     "output_type": "stream",
     "text": [
      "No. of angles: 4\n",
      "Enter angle: 65\n",
      "Enter angle: 4\n",
      "Enter angle: 532\n",
      "Enter angle: 45\n",
      "A rectangle cannot be drawn\n"
     ]
    }
   ],
   "source": [
    "#8) Shape drawing\n",
    "num=int(input('No. of angles: '))\n",
    "if (num==3):\n",
    "        angle1=int(input('Enter angle: '))\n",
    "        angle2=int(input('Enter angle: '))\n",
    "        angle3=int(input('Enter angle: '))\n",
    "        if (angle1+angle2+angle3==180):\n",
    "            print('A triangle can be drawn')\n",
    "        else:\n",
    "            print('A triangle cannot be drawn')\n",
    "elif (num==4):\n",
    "        angle1=int(input('Enter angle: '))\n",
    "        angle2=int(input('Enter angle: '))\n",
    "        angle3=int(input('Enter angle: '))\n",
    "        angle4=int(input('Enter angle: '))\n",
    "        if (angle1+angle2+angle3+angle4==360):\n",
    "            print('A rectangle can be drawn')\n",
    "        else:\n",
    "            print('A rectangle cannot be drawn')\n",
    "else:\n",
    "        print('invalid input')"
   ]
  },
  {
   "cell_type": "code",
   "execution_count": null,
   "id": "9916d573",
   "metadata": {},
   "outputs": [],
   "source": [
    "#9) Ludo\n",
    "count1=0\n",
    "count2=0\n",
    "for i in range (25):\n",
    "    player1=int(input('Player 1, Roll the dice:'))\n",
    "    player2=int(input('Player 2, Roll the dice: '))\n",
    "    if (player1<1 or player1>6 or player2<1 or player2>6):\n",
    "        print('invalid')\n",
    "    else: \n",
    "        count1=count1+player1\n",
    "        count2=count2+player2\n",
    "        if (count1==25):\n",
    "            print('Player 1 is winner')\n",
    "        elif (count2==25):\n",
    "            print('Player 2 is winner')     "
   ]
  }
 ],
 "metadata": {
  "kernelspec": {
   "display_name": "Python 3",
   "language": "python",
   "name": "python3"
  },
  "language_info": {
   "codemirror_mode": {
    "name": "ipython",
    "version": 3
   },
   "file_extension": ".py",
   "mimetype": "text/x-python",
   "name": "python",
   "nbconvert_exporter": "python",
   "pygments_lexer": "ipython3",
   "version": "3.8.8"
  }
 },
 "nbformat": 4,
 "nbformat_minor": 5
}
